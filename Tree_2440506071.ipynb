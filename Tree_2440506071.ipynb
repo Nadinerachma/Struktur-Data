{
  "nbformat": 4,
  "nbformat_minor": 0,
  "metadata": {
    "colab": {
      "provenance": [],
      "authorship_tag": "ABX9TyPg+eGyKWeztXvUu5ZlBeJc",
      "include_colab_link": true
    },
    "kernelspec": {
      "name": "python3",
      "display_name": "Python 3"
    },
    "language_info": {
      "name": "python"
    }
  },
  "cells": [
    {
      "cell_type": "markdown",
      "metadata": {
        "id": "view-in-github",
        "colab_type": "text"
      },
      "source": [
        "<a href=\"https://colab.research.google.com/github/Nadinerachma/Struktur-Data/blob/main/Tree_2440506071.ipynb\" target=\"_parent\"><img src=\"https://colab.research.google.com/assets/colab-badge.svg\" alt=\"Open In Colab\"/></a>"
      ]
    },
    {
      "cell_type": "markdown",
      "source": [
        "Binary Tree"
      ],
      "metadata": {
        "id": "4Cw61t9abGHJ"
      }
    },
    {
      "cell_type": "code",
      "execution_count": null,
      "metadata": {
        "colab": {
          "base_uri": "https://localhost:8080/"
        },
        "id": "m0o9gkdLYvU4",
        "outputId": "ec050d62-61f7-4aee-9174-da87721e386b"
      },
      "outputs": [
        {
          "output_type": "stream",
          "name": "stdout",
          "text": [
            "Hasil inorder traversal dari binary tree:\n",
            "4 2 5 1 3 "
          ]
        }
      ],
      "source": [
        "class Node:\n",
        "  def __init__(self, data):\n",
        "    self.data = data\n",
        "    self.left = None\n",
        "    self.right = None\n",
        "\n",
        "root = Node(1)\n",
        "root.left = Node(2)\n",
        "root.right = Node(3)\n",
        "root.left.left = Node(4)\n",
        "root.left.right = Node(5)\n",
        "\n",
        "def inorder(node):\n",
        "  if node:\n",
        "    inorder(node.left)\n",
        "    print(node.data, end=' ')\n",
        "    inorder(node.right)\n",
        "\n",
        "print(\"Hasil inorder traversal dari binary tree:\")\n",
        "inorder(root)"
      ]
    },
    {
      "cell_type": "markdown",
      "source": [
        "Binary Search Tree"
      ],
      "metadata": {
        "id": "hQp-bq8tc5-f"
      }
    },
    {
      "cell_type": "code",
      "source": [
        "class Node:\n",
        "  def __init__(self, data):\n",
        "    self.data = data\n",
        "    self.left = None\n",
        "    self.right = None\n",
        "\n",
        "class BinarySearchTree:\n",
        "  def __init__(self):\n",
        "    self.root = None\n",
        "\n",
        "  def insert(self, root, data):\n",
        "    if root is None:\n",
        "      return Node(data)\n",
        "    if data < root.data:\n",
        "      root.left = self.insert(root.left, data)\n",
        "    else:\n",
        "      root.right = self.insert(root.right, data)\n",
        "    return root\n",
        "\n",
        "bst = BinarySearchTree()\n",
        "root = None\n",
        "data_list = [50, 30, 70, 20, 40, 60, 80]\n",
        "for value in data_list:\n",
        "  root = bst.insert(root, value)\n"
      ],
      "metadata": {
        "id": "Ee01sHKwcoAx"
      },
      "execution_count": 8,
      "outputs": []
    },
    {
      "cell_type": "markdown",
      "source": [
        "Traversal pada BST"
      ],
      "metadata": {
        "id": "bkw4dwFKjZxP"
      }
    },
    {
      "cell_type": "code",
      "source": [
        "def inorder(node):\n",
        "  if node:\n",
        "    inorder(node.left)\n",
        "    print(node.data, end=' ')\n",
        "    inorder(node.right)\n",
        "\n",
        "def preorder(node):\n",
        "  if node:\n",
        "    print(node.data, end=' ')\n",
        "    preorder(node.left)\n",
        "    preorder(node.right)\n",
        "\n",
        "def postorder(node):\n",
        "  if node:\n",
        "    postorder(node.left)\n",
        "    postorder(node.right)\n",
        "    print(node.data, end=' ')\n",
        "\n",
        "print(\"Inorder traversal:\")\n",
        "inorder(root)\n",
        "print(\"\\nPreorder traversal:\")\n",
        "preorder(root)\n",
        "print(\"\\nPostorder traversal:\")\n",
        "postorder(root)"
      ],
      "metadata": {
        "colab": {
          "base_uri": "https://localhost:8080/"
        },
        "id": "vKEBioXAfqay",
        "outputId": "a5a4ab4e-a8f9-4c06-98ba-805dc99fddc2"
      },
      "execution_count": null,
      "outputs": [
        {
          "output_type": "stream",
          "name": "stdout",
          "text": [
            "Inorder traversal:\n",
            "20 30 40 50 60 70 80 \n",
            "Preorder traversal:\n",
            "50 30 20 40 70 60 80 \n",
            "Postorder traversal:\n",
            "20 40 30 60 80 70 50 "
          ]
        }
      ]
    },
    {
      "cell_type": "markdown",
      "source": [
        "Pencarian nilai dalam BST"
      ],
      "metadata": {
        "id": "ZnSTxuuik8u_"
      }
    },
    {
      "cell_type": "code",
      "source": [
        "def search(node, key):\n",
        "  if node is None or node.data == key:\n",
        "    return node\n",
        "  if key < node.data:\n",
        "    return search(node.left, key)\n",
        "  return search(node.right, key)\n",
        "\n",
        "key = 60\n",
        "result = search(root, key)\n",
        "if result:\n",
        "  print(f\"{key} ditemukan dalam tree.\")\n",
        "else:\n",
        "  print(f\"{key} tidak ditemukan.\")\n",
        "\n",
        "key = 25\n",
        "result = search(root, key)\n",
        "if result:\n",
        "  print(f\"{key} ditemukan dalam tree.\")\n",
        "else:\n",
        "  print(f\"{key} tidak ditemukan.\")"
      ],
      "metadata": {
        "colab": {
          "base_uri": "https://localhost:8080/"
        },
        "id": "z2T9FGrxjVnh",
        "outputId": "6d21ef4f-e5f3-4e9f-d533-1210d0c6847d"
      },
      "execution_count": null,
      "outputs": [
        {
          "output_type": "stream",
          "name": "stdout",
          "text": [
            "60 tidak ditemukan.\n",
            "25 tidak ditemukan.\n"
          ]
        }
      ]
    },
    {
      "cell_type": "markdown",
      "source": [
        "Tugas 1: Program Struktur Binary Tree Manual"
      ],
      "metadata": {
        "id": "hIOhkiql7-ts"
      }
    },
    {
      "cell_type": "code",
      "source": [
        "#struktur Tree berdasarkan identitas saya\n",
        "class Node:\n",
        "    def __init__(self, value):\n",
        "        self.value = value\n",
        "        self.left = None\n",
        "        self.right = None\n",
        "\n",
        "class BinaryTree:\n",
        "    def __init__(self, root_value):\n",
        "        self.root = Node(root_value)\n",
        "\n",
        "    def inorder_traversal(self, node):\n",
        "        if node:\n",
        "            self.inorder_traversal(node.left)\n",
        "            print(node.value, end=' ')\n",
        "            self.inorder_traversal(node.right)\n",
        "\n",
        "    def print_structure(self, node, level=0):\n",
        "        if node is not None:\n",
        "            self.print_structure(node.right, level + 1)\n",
        "            print('   ' * level + str(node.value))\n",
        "            self.print_structure(node.left, level + 1)\n",
        "\n",
        "#data berdasarkan identitas\n",
        "nama_lengkap = \"Nadine Rachma Wijaya\"\n",
        "npm = \"2440506071\"\n",
        "tanggal_lahir = \"12\"\n",
        "bulan_lahir = \"02\"\n",
        "\n",
        "#menghitung jumlah huruf pada nama lengkap\n",
        "jumlah_huruf_nama = len(nama_lengkap.replace(\" \", \"\"))\n",
        "\n",
        "#menghitung jumlah huruf vokal\n",
        "huruf_vokal = \"aeiouAEIOU\"\n",
        "jumlah_vokal = sum(1 for char in nama_lengkap if char in huruf_vokal)\n",
        "\n",
        "#dua digit terakhir NPM\n",
        "dua_digit_npm = npm[-2:]\n",
        "\n",
        "#membuat tree\n",
        "tree = BinaryTree(jumlah_huruf_nama)\n",
        "\n",
        "#menambahkan anak kiri dan kanan untuk root\n",
        "tree.root.left = Node(jumlah_vokal)\n",
        "tree.root.right = Node(int(dua_digit_npm))\n",
        "\n",
        "#menambahkan level anak dari anak\n",
        "tree.root.left.left = Node(int(tanggal_lahir))\n",
        "tree.root.right.right = Node(int(bulan_lahir))\n",
        "\n",
        "print(\"Inorder Traversal:\")\n",
        "tree.inorder_traversal(tree.root)\n",
        "print(\"\\n\\nStruktur Tree:\")\n",
        "tree.print_structure(tree.root)\n"
      ],
      "metadata": {
        "colab": {
          "base_uri": "https://localhost:8080/"
        },
        "id": "fArBDKyF6kDA",
        "outputId": "2655b7e1-7a8e-4117-a1da-ebb963008030"
      },
      "execution_count": 9,
      "outputs": [
        {
          "output_type": "stream",
          "name": "stdout",
          "text": [
            "Inorder Traversal:\n",
            "12 8 18 71 2 \n",
            "\n",
            "Struktur Tree:\n",
            "      2\n",
            "   71\n",
            "18\n",
            "   8\n",
            "      12\n"
          ]
        }
      ]
    },
    {
      "cell_type": "markdown",
      "source": [
        "Tugas 2: Program Binary Search Tree"
      ],
      "metadata": {
        "id": "0gwnq-tX9sSu"
      }
    },
    {
      "cell_type": "code",
      "source": [
        "#struktur BST berdasarkan identitas saya\n",
        "class BSTNode:\n",
        "    def __init__(self, value):\n",
        "        self.value = value\n",
        "        self.left = None\n",
        "        self.right = None\n",
        "\n",
        "class BST:\n",
        "    def __init__(self):\n",
        "        self.root = None\n",
        "\n",
        "    #menambahkan node ke dalam BST\n",
        "    def insert(self, value):\n",
        "        self.root = self._insert_recursive(self.root, value)\n",
        "\n",
        "    def _insert_recursive(self, node, value):\n",
        "        if node is None:\n",
        "            return BSTNode(value)\n",
        "        if value < node.value:\n",
        "            node.left = self._insert_recursive(node.left, value)\n",
        "        else:\n",
        "            node.right = self._insert_recursive(node.right, value)\n",
        "        return node\n",
        "\n",
        "    #traversal Inorder\n",
        "    def inorder(self, node):\n",
        "        if node:\n",
        "            self.inorder(node.left)\n",
        "            print(node.value, end=' ')\n",
        "            self.inorder(node.right)\n",
        "\n",
        "    #traversal Preorder\n",
        "    def preorder(self, node):\n",
        "        if node:\n",
        "            print(node.value, end=' ')\n",
        "            self.preorder(node.left)\n",
        "            self.preorder(node.right)\n",
        "\n",
        "    #traversal Postorder\n",
        "    def postorder(self, node):\n",
        "        if node:\n",
        "            self.postorder(node.left)\n",
        "            self.postorder(node.right)\n",
        "            print(node.value, end=' ')\n",
        "\n",
        "    #mencari node tertentu\n",
        "    def search(self, value):\n",
        "        return self._search_recursive(self.root, value)\n",
        "\n",
        "    def _search_recursive(self, node, value):\n",
        "        if node is None:\n",
        "            return False\n",
        "        if node.value == value:\n",
        "            return True\n",
        "        elif value < node.value:\n",
        "            return self._search_recursive(node.left, value)\n",
        "        else:\n",
        "            return self._search_recursive(node.right, value)\n",
        "\n",
        "#data berdasarkan identitas\n",
        "npm = \"2440506071\"\n",
        "tanggal_lahir = \"12\"\n",
        "bulan_lahir = \"02\"\n",
        "nama_depan = \"Nadine\"\n",
        "\n",
        "#membuat daftar angka\n",
        "data = [int(npm[-3:]), int(tanggal_lahir), int(bulan_lahir), ord(nama_depan[0]), ord(nama_depan[1]), 77, 99]\n",
        "\n",
        "#membuat BST\n",
        "bst = BST()\n",
        "for value in data:\n",
        "    bst.insert(value)\n",
        "\n",
        "#menampilkan hasil traversal\n",
        "print(\"Inorder Traversal:\")\n",
        "bst.inorder(bst.root)\n",
        "print(\"\\nPreorder Traversal:\")\n",
        "bst.preorder(bst.root)\n",
        "print(\"\\nPostorder Traversal:\")\n",
        "bst.postorder(bst.root)\n",
        "\n",
        "#pencarian\n",
        "print(\"\\n\\nPencarian angka dua digit terakhir NPM:\")\n",
        "dua_digit_npm = int(npm[-2:])\n",
        "print(f\"Apakah {dua_digit_npm} ada di BST?\", \"Ditemukan\" if bst.search(dua_digit_npm) else \"Tidak ditemukan\")\n",
        "\n",
        "print(\"\\nPencarian angka yang tidak ada di list:\")\n",
        "tidak_ada = 101\n",
        "print(f\"Apakah {tidak_ada} ada di BST?\", \"Ditemukan\" if bst.search(tidak_ada) else \"Tidak ditemukan\")\n"
      ],
      "metadata": {
        "colab": {
          "base_uri": "https://localhost:8080/"
        },
        "id": "LQ2BJOTr7HyG",
        "outputId": "c6c3f696-c056-49b2-b8e2-64bca0a59dd8"
      },
      "execution_count": 5,
      "outputs": [
        {
          "output_type": "stream",
          "name": "stdout",
          "text": [
            "Inorder Traversal:\n",
            "2 12 71 77 78 97 99 \n",
            "Preorder Traversal:\n",
            "71 12 2 78 77 97 99 \n",
            "Postorder Traversal:\n",
            "2 12 77 99 97 78 71 \n",
            "\n",
            "Pencarian angka dua digit terakhir NPM:\n",
            "Apakah 71 ada di BST? Ditemukan\n",
            "\n",
            "Pencarian angka yang tidak ada di list:\n",
            "Apakah 101 ada di BST? Tidak ditemukan\n"
          ]
        }
      ]
    },
    {
      "cell_type": "code",
      "source": [],
      "metadata": {
        "id": "W7IRvrEo9K29"
      },
      "execution_count": null,
      "outputs": []
    }
  ]
}