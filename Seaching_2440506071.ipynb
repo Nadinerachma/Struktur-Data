{
  "nbformat": 4,
  "nbformat_minor": 0,
  "metadata": {
    "colab": {
      "provenance": [],
      "authorship_tag": "ABX9TyMVD40VTWVtnYfP4wue+1OA",
      "include_colab_link": true
    },
    "kernelspec": {
      "name": "python3",
      "display_name": "Python 3"
    },
    "language_info": {
      "name": "python"
    }
  },
  "cells": [
    {
      "cell_type": "markdown",
      "metadata": {
        "id": "view-in-github",
        "colab_type": "text"
      },
      "source": [
        "<a href=\"https://colab.research.google.com/github/Nadinerachma/Struktur-Data/blob/main/Seaching_2440506071.ipynb\" target=\"_parent\"><img src=\"https://colab.research.google.com/assets/colab-badge.svg\" alt=\"Open In Colab\"/></a>"
      ]
    },
    {
      "cell_type": "markdown",
      "source": [
        "Implementasi Linear Search\n",
        "\n",
        "\n"
      ],
      "metadata": {
        "id": "7H40NOHyMVjz"
      }
    },
    {
      "cell_type": "code",
      "execution_count": null,
      "metadata": {
        "id": "oRZLr8UCHiJg",
        "colab": {
          "base_uri": "https://localhost:8080/"
        },
        "outputId": "9028464d-20ff-4287-a96a-8b4cf61df0fd"
      },
      "outputs": [
        {
          "output_type": "stream",
          "name": "stdout",
          "text": [
            "Masukkan 3 digit terakhir NPM Anda: 071\n",
            "Elemen tidak ditemukan\n"
          ]
        }
      ],
      "source": [
        "def linier_search(arr, target):\n",
        "  for i in range(len(arr)):\n",
        "    if arr[i] == target:\n",
        "      return i\n",
        "  return -1\n",
        "\n",
        "arr = [12, 45, 78, 23, 56, 89, 34, 67, 90]\n",
        "target = int(input(\"Masukkan 3 digit terakhir NPM Anda: \"))\n",
        "\n",
        "result = linier_search(arr, target)\n",
        "\n",
        "if result != -1:\n",
        "  print(f\"Elemen ditemukan pada indeks {result}\")\n",
        "else:\n",
        "  print(\"Elemen tidak ditemukan\")"
      ]
    },
    {
      "cell_type": "code",
      "execution_count": null,
      "metadata": {
        "colab": {
          "base_uri": "https://localhost:8080/"
        },
        "outputId": "3f7ff149-3d26-4211-f082-66d4bed19602",
        "id": "Nr30gZkBLYlX"
      },
      "outputs": [
        {
          "output_type": "stream",
          "name": "stdout",
          "text": [
            "Masukkan 3 digit terakhir NPM Anda: 071\n",
            "Elemen ditemukan pada indeks 8\n"
          ]
        }
      ],
      "source": [
        "def linier_search(arr, target):\n",
        "  for i in range(len(arr)):\n",
        "    if arr[i] == target:\n",
        "      return i\n",
        "  return -1\n",
        "\n",
        "arr = [12, 45, 78, 23, 56, 89, 34, 67, 71, 90]\n",
        "target = int(input(\"Masukkan 3 digit terakhir NPM Anda: \"))\n",
        "\n",
        "result = linier_search(arr, target)\n",
        "\n",
        "if result != -5:\n",
        "  print(f\"Elemen ditemukan pada indeks {result}\")\n",
        "else:\n",
        "  print(\"Elemen tidak ditemukan\")"
      ]
    },
    {
      "cell_type": "code",
      "execution_count": null,
      "metadata": {
        "colab": {
          "base_uri": "https://localhost:8080/"
        },
        "outputId": "3c1317dc-6463-481c-8d77-0b1abed634b0",
        "id": "eEzsSztSMLm3"
      },
      "outputs": [
        {
          "output_type": "stream",
          "name": "stdout",
          "text": [
            "Masukkan 3 digit terakhir NPM Anda: 067\n",
            "Elemen ditemukan pada indeks 7\n"
          ]
        }
      ],
      "source": [
        "def linier_search(arr, target):\n",
        "  for i in range(len(arr)):\n",
        "    if arr[i] == target:\n",
        "      return i\n",
        "  return -1\n",
        "\n",
        "arr = [12, 45, 78, 23, 56, 80, 34, 67, 71]\n",
        "target = int(input(\"Masukkan 3 digit terakhir NPM Anda: \"))\n",
        "\n",
        "result = linier_search(arr, target)\n",
        "\n",
        "if result != -5:\n",
        "  print(f\"Elemen ditemukan pada indeks {result}\")\n",
        "else:\n",
        "  print(\"Elemen tidak ditemukan\")"
      ]
    },
    {
      "cell_type": "markdown",
      "source": [
        "Implementasi Binary Search"
      ],
      "metadata": {
        "id": "CzjFqUmTR6T4"
      }
    },
    {
      "cell_type": "code",
      "source": [
        "def binary_search(arr, target):\n",
        "  low = 0\n",
        "  high = len(arr) - 1\n",
        "\n",
        "  while low <= high:\n",
        "    mid = (low + high) // 2\n",
        "    if arr[mid] == target:\n",
        "      return mid\n",
        "    elif arr[mid] == target:\n",
        "      low = mid + 1\n",
        "    else:\n",
        "      high = mid - 1\n",
        "\n",
        "  return -1\n",
        "\n",
        "arr = [212, 213, 214, 215, 216]\n",
        "target = int(input(\"Masukkan tanggal lahir Anda: \"))\n",
        "\n",
        "result = binary_search(arr, target)\n",
        "\n",
        "if result != -1:\n",
        "  print(f\"Elemen ditemukan pada indeks {result}\")\n",
        "else:\n",
        "  print(\"Elemen tidak ditemukan\")\n"
      ],
      "metadata": {
        "colab": {
          "base_uri": "https://localhost:8080/"
        },
        "id": "CzzSbuXIPSj5",
        "outputId": "af3e3307-eb81-4f8f-9b0e-2bddb320fc3e"
      },
      "execution_count": null,
      "outputs": [
        {
          "output_type": "stream",
          "name": "stdout",
          "text": [
            "Masukkan tanggal lahir Anda: 214\n",
            "Elemen ditemukan pada indeks 2\n"
          ]
        }
      ]
    },
    {
      "cell_type": "markdown",
      "source": [
        "Implementasi Jump Search"
      ],
      "metadata": {
        "id": "MDUMmySieFtN"
      }
    },
    {
      "cell_type": "code",
      "source": [
        "import math\n",
        "\n",
        "def jump_search(arr, target):\n",
        "  n = len(arr)\n",
        "  step = int(math.sqrt(n))\n",
        "  prev = 0\n",
        "\n",
        "  while arr[min(step, n) - 1] < target:\n",
        "    prev = step\n",
        "    step += int(math.sqrt(n))\n",
        "    if prev >= n:\n",
        "        return -1\n",
        "\n",
        "  for i in range(prev, min(step, n)):\n",
        "      if arr[i] == target:\n",
        "          return i\n",
        "  return -1\n",
        "\n",
        "arr = [\"Ahmada\", \"Bambang\", \"Calestia\", \"Dewi\", \"Endra\", \"Falikha\", \"Gio\"]\n",
        "target = input(\"Masukkan Nama Anda: \")\n",
        "\n",
        "result = jump_search(arr, target)\n",
        "\n",
        "if result != -1:\n",
        "    print(f\"Elemen ditemukan pada indeks {result}\")\n",
        "else:\n",
        "    print(\"Elemen tidak ditemukan\")"
      ],
      "metadata": {
        "colab": {
          "base_uri": "https://localhost:8080/"
        },
        "id": "JmjGYXyFMQgB",
        "outputId": "8811d97d-a602-46f9-80a4-15dcf60337ab"
      },
      "execution_count": null,
      "outputs": [
        {
          "output_type": "stream",
          "name": "stdout",
          "text": [
            "Masukkan Nama Anda: Calestia\n",
            "Elemen ditemukan pada indeks 2\n"
          ]
        }
      ]
    },
    {
      "cell_type": "markdown",
      "source": [
        "Tugas"
      ],
      "metadata": {
        "id": "nVJkwgfmT_ig"
      }
    },
    {
      "cell_type": "code",
      "execution_count": null,
      "metadata": {
        "colab": {
          "base_uri": "https://localhost:8080/"
        },
        "outputId": "abcd5016-9cee-4b64-a38b-adb69f445ae0",
        "id": "qx5a_IZ_UTIs"
      },
      "outputs": [
        {
          "output_type": "stream",
          "name": "stdout",
          "text": [
            "Masukkan Angka Anda: 200\n",
            "Elemen ditemukan pada indeks 4\n"
          ]
        }
      ],
      "source": [
        "def linier_search(arr, target):\n",
        "  for i in range(len(arr)):\n",
        "    if arr[i] == target:\n",
        "      return i\n",
        "  return -1\n",
        "\n",
        "arr = [10, 50, 100, 150, 200, 250, 300, 350, 400, 500, 1000]\n",
        "target = int(input(\"Masukkan Angka Anda: \"))\n",
        "\n",
        "result = linier_search(arr, target)\n",
        "\n",
        "if result != -1:\n",
        "  print(f\"Elemen ditemukan pada indeks {result}\")\n",
        "else:\n",
        "  print(\"Elemen tidak ditemukan\")"
      ]
    },
    {
      "cell_type": "code",
      "source": [
        "import random\n",
        "import math\n",
        "\n",
        "data = sorted(random.sample(range(1, 1001), 100))\n",
        "\n",
        "target = data[len(data) // 2]\n",
        "\n",
        "print(f\"Daftar angka: {data}\")\n",
        "print(f\"Target pencarian: {target}\")\n"
      ],
      "metadata": {
        "colab": {
          "base_uri": "https://localhost:8080/"
        },
        "id": "MN_9yIhHgWl8",
        "outputId": "9dc1c871-02ba-48e6-d146-f828a7f1779c"
      },
      "execution_count": 3,
      "outputs": [
        {
          "output_type": "stream",
          "name": "stdout",
          "text": [
            "Daftar angka: [9, 13, 20, 48, 62, 84, 97, 112, 114, 126, 129, 133, 151, 154, 162, 178, 183, 185, 189, 190, 207, 209, 216, 219, 237, 239, 260, 277, 279, 284, 297, 319, 329, 335, 344, 352, 355, 362, 364, 377, 395, 420, 430, 435, 502, 510, 529, 531, 549, 550, 560, 565, 576, 594, 595, 616, 619, 631, 638, 653, 654, 667, 679, 697, 710, 711, 715, 725, 741, 749, 754, 755, 758, 759, 763, 786, 798, 805, 822, 830, 840, 853, 865, 882, 883, 884, 905, 921, 926, 927, 947, 948, 949, 954, 964, 967, 971, 976, 991, 998]\n",
            "Target pencarian: 560\n"
          ]
        }
      ]
    },
    {
      "cell_type": "code",
      "source": [
        "def linear_search(arr, target):\n",
        "    for i in range(len(arr)):\n",
        "        if arr[i] == target:\n",
        "            return i\n",
        "    return -1\n",
        "\n",
        "index = linear_search(data, target)\n",
        "print(f\"Linear Search: Target ditemukan di indeks {index}\" if index != -1 else \"Linear Search: Target tidak ditemukan\")\n"
      ],
      "metadata": {
        "colab": {
          "base_uri": "https://localhost:8080/"
        },
        "id": "GSDAQclfhjuI",
        "outputId": "53086b62-aea8-4e9c-fef5-757ac1574875"
      },
      "execution_count": 4,
      "outputs": [
        {
          "output_type": "stream",
          "name": "stdout",
          "text": [
            "Linear Search: Target ditemukan di indeks 50\n"
          ]
        }
      ]
    },
    {
      "cell_type": "code",
      "source": [
        "def binary_search(arr, target):\n",
        "    left, right = 0, len(arr) - 1\n",
        "\n",
        "    while left <= right:\n",
        "        mid = (left + right) // 2\n",
        "        if arr[mid] == target:\n",
        "            return mid\n",
        "        elif arr[mid] < target:\n",
        "            left = mid + 1\n",
        "        else:\n",
        "            right = mid - 1\n",
        "\n",
        "    return -1\n",
        "\n",
        "index = binary_search(data, target)\n",
        "print(f\"Binary Search: Target ditemukan di indeks {index}\" if index != -1 else \"Binary Search: Target tidak ditemukan\")\n"
      ],
      "metadata": {
        "colab": {
          "base_uri": "https://localhost:8080/"
        },
        "id": "XNEEuiPHhqnp",
        "outputId": "df307c45-2b22-4a5e-a8aa-1115420a0cfc"
      },
      "execution_count": 5,
      "outputs": [
        {
          "output_type": "stream",
          "name": "stdout",
          "text": [
            "Binary Search: Target ditemukan di indeks 50\n"
          ]
        }
      ]
    },
    {
      "cell_type": "code",
      "source": [
        "def jump_search(arr, target):\n",
        "    n = len(arr)\n",
        "    step = int(math.sqrt(n))\n",
        "    prev = 0\n",
        "\n",
        "    while prev < n and arr[min(n-1, prev + step)] < target:\n",
        "        prev += step\n",
        "\n",
        "    for i in range(prev, min(prev + step, n)):\n",
        "        if arr[i] == target:\n",
        "            return i\n",
        "\n",
        "    return -1\n",
        "\n",
        "index = jump_search(data, target)\n",
        "print(f\"Jump Search: Target ditemukan di indeks {index}\" if index != -1 else \"Jump Search: Target tidak ditemukan\")\n"
      ],
      "metadata": {
        "colab": {
          "base_uri": "https://localhost:8080/"
        },
        "id": "EkAQkFsahwoo",
        "outputId": "512e3a2a-6caf-4a60-fee1-12e9aed45fbc"
      },
      "execution_count": 6,
      "outputs": [
        {
          "output_type": "stream",
          "name": "stdout",
          "text": [
            "Jump Search: Target tidak ditemukan\n"
          ]
        }
      ]
    }
  ]
}