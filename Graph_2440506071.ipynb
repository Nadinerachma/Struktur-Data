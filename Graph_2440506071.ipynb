{
  "nbformat": 4,
  "nbformat_minor": 0,
  "metadata": {
    "colab": {
      "provenance": [],
      "authorship_tag": "ABX9TyOkVRiiYW97ro0RkM438A7K",
      "include_colab_link": true
    },
    "kernelspec": {
      "name": "python3",
      "display_name": "Python 3"
    },
    "language_info": {
      "name": "python"
    }
  },
  "cells": [
    {
      "cell_type": "markdown",
      "metadata": {
        "id": "view-in-github",
        "colab_type": "text"
      },
      "source": [
        "<a href=\"https://colab.research.google.com/github/Nadinerachma/Struktur-Data/blob/main/Graph_2440506071.ipynb\" target=\"_parent\"><img src=\"https://colab.research.google.com/assets/colab-badge.svg\" alt=\"Open In Colab\"/></a>"
      ]
    },
    {
      "cell_type": "markdown",
      "source": [
        "Representasi graf dengan adjacency list"
      ],
      "metadata": {
        "id": "w5My0ZQ9hn_B"
      }
    },
    {
      "cell_type": "code",
      "execution_count": null,
      "metadata": {
        "colab": {
          "base_uri": "https://localhost:8080/"
        },
        "id": "MyPTAldZcaIM",
        "outputId": "0dbac2b6-06cb-47d5-d47a-f9cff3ee2fd2"
      },
      "outputs": [
        {
          "output_type": "stream",
          "name": "stdout",
          "text": [
            "A -> ['B', 'C']\n",
            "B -> ['A', 'D', 'E']\n",
            "C -> ['A', 'F']\n",
            "D -> ['B']\n",
            "E -> ['B', 'F']\n",
            "F -> ['C', 'E']\n"
          ]
        }
      ],
      "source": [
        "graph = {\n",
        "    'A': ['B', 'C'],\n",
        "    'B': ['A', 'D', 'E'],\n",
        "    'C': ['A', 'F'],\n",
        "    'D': ['B'],\n",
        "    'E': ['B', 'F'],\n",
        "    'F': ['C', 'E']\n",
        "}\n",
        "\n",
        "def print_graph(graf):\n",
        "  for node in graf:\n",
        "    print(f\"{node} -> {graf[node]}\")\n",
        "\n",
        "print_graph(graph)\n"
      ]
    },
    {
      "cell_type": "markdown",
      "source": [
        "Traversal graf menggunakan bfs"
      ],
      "metadata": {
        "id": "5CeuwTbZjuho"
      }
    },
    {
      "cell_type": "code",
      "source": [
        "from collections import deque\n",
        "\n",
        "def bfs(graph, start):\n",
        "  visited = set()\n",
        "  queue = deque([start])\n",
        "\n",
        "  while queue:\n",
        "    vertex = queue.popleft()\n",
        "    if vertex not in visited:\n",
        "      print(vertex, end=\" \" )\n",
        "      visited.add(vertex)\n",
        "      queue.extend([neighbor for neighbor in graph[vertex] if neighbor not in visited])\n",
        "\n",
        "bfs(graph, 'A')"
      ],
      "metadata": {
        "colab": {
          "base_uri": "https://localhost:8080/"
        },
        "id": "aKWuETF8hKeL",
        "outputId": "fd4750a7-d78f-4c94-aed9-4bd9fbff7828"
      },
      "execution_count": null,
      "outputs": [
        {
          "output_type": "stream",
          "name": "stdout",
          "text": [
            "A B C D E F "
          ]
        }
      ]
    },
    {
      "cell_type": "markdown",
      "source": [
        "Traversal graf menggunakan dfs"
      ],
      "metadata": {
        "id": "1myCdfN_kMUv"
      }
    },
    {
      "cell_type": "code",
      "source": [
        "def dfs(graph, start, visited=None):\n",
        "  if visited is None:\n",
        "    visited = set()\n",
        "\n",
        "  if start not in visited:\n",
        "    print(start, end=\" \")\n",
        "    visited.add(start)\n",
        "    for neighbor in graph[start]:\n",
        "      dfs(graph, neighbor, visited)\n",
        "\n",
        "dfs(graph, 'A')"
      ],
      "metadata": {
        "colab": {
          "base_uri": "https://localhost:8080/"
        },
        "id": "_s2KKxEMjFR6",
        "outputId": "8b28ae2a-22a3-44eb-a81d-14833d34d4dc"
      },
      "execution_count": null,
      "outputs": [
        {
          "output_type": "stream",
          "name": "stdout",
          "text": [
            "A B D E F C "
          ]
        }
      ]
    },
    {
      "cell_type": "markdown",
      "source": [
        "Latihan Personal"
      ],
      "metadata": {
        "id": "MlkWz3kJrd6Y"
      }
    },
    {
      "cell_type": "code",
      "source": [
        "def count_neighbors(graph):\n",
        "    result = {}\n",
        "    for node in graph:\n",
        "        #menghitung panjang daftar tetangga dan menyimpannya di dictionary result\n",
        "        result[node] = len(graph[node])\n",
        "    return result\n",
        "\n",
        "graph = {\n",
        "    'A': ['B', 'C'],\n",
        "    'B': ['A', 'D', 'E'],\n",
        "    'C': ['A', 'F'],\n",
        "    'D': ['B'],\n",
        "    'E': ['B', 'F'],\n",
        "    'F': ['C', 'E']\n",
        "}\n",
        "\n",
        "print(f\"\\n\\nJumlah tetangga tiap simpul: {count_neighbors(graph)}\")"
      ],
      "metadata": {
        "colab": {
          "base_uri": "https://localhost:8080/"
        },
        "id": "Iqb2pxOWr8U3",
        "outputId": "110993c4-05bb-4f99-c09b-d8998a5f7ad2"
      },
      "execution_count": 5,
      "outputs": [
        {
          "output_type": "stream",
          "name": "stdout",
          "text": [
            "\n",
            "\n",
            "Jumlah tetangga tiap simpul: {'A': 2, 'B': 3, 'C': 2, 'D': 1, 'E': 2, 'F': 2}\n"
          ]
        }
      ]
    },
    {
      "cell_type": "markdown",
      "source": [
        "Tugas"
      ],
      "metadata": {
        "id": "hqzGxTBBs3QZ"
      }
    },
    {
      "cell_type": "code",
      "source": [
        "from IPython import get_ipython\n",
        "from IPython.display import display\n",
        "graph = {\n",
        "    'A': ['B', 'C'],\n",
        "    'B': ['A', 'D', 'E'],\n",
        "    'C': ['A', 'F'],\n",
        "    'D': ['B'],\n",
        "    'E': ['B', 'F'],\n",
        "    'F': ['C', 'E']\n",
        "}\n",
        "\n",
        "my_graph = {\n",
        "    'Jakarta': ['Bandung', 'Semarang'],\n",
        "    'Bandung': ['Jakarta', 'Yogyakarta'],\n",
        "    'Semarang': ['Jakarta', 'Yogyakarta', 'Surabaya'],\n",
        "    'Yogyakarta': ['Bandung', 'Semarang', 'Solo'],\n",
        "    'Solo': ['Yogyakarta', 'Surabaya'],\n",
        "    'Surabaya': ['Semarang', 'Solo']\n",
        "}\n",
        "\n",
        "print(\"\\n\\nGraf baru (my_graph):\")\n",
        "# The print_graph function must be defined in a previously executed cell\n",
        "# for the following line to work correctly.\n",
        "print_graph(my_graph)"
      ],
      "metadata": {
        "colab": {
          "base_uri": "https://localhost:8080/"
        },
        "id": "OJR6vSuStjP5",
        "outputId": "88cdbefd-2681-49e1-af9d-c378ddfa35e5"
      },
      "execution_count": 10,
      "outputs": [
        {
          "output_type": "stream",
          "name": "stdout",
          "text": [
            "\n",
            "\n",
            "Graf baru (my_graph):\n",
            "Jakarta -> ['Bandung', 'Semarang']\n",
            "Bandung -> ['Jakarta', 'Yogyakarta']\n",
            "Semarang -> ['Jakarta', 'Yogyakarta', 'Surabaya']\n",
            "Yogyakarta -> ['Bandung', 'Semarang', 'Solo']\n",
            "Solo -> ['Yogyakarta', 'Surabaya']\n",
            "Surabaya -> ['Semarang', 'Solo']\n"
          ]
        }
      ]
    },
    {
      "cell_type": "code",
      "source": [
        "start_node = 'Jakarta'\n",
        "bfs(my_graph, start_node)\n",
        "\n",
        "print(f\"\\n\\nDFS dari simpul {start_node}:\")\n",
        "dfs(my_graph, start_node)"
      ],
      "metadata": {
        "colab": {
          "base_uri": "https://localhost:8080/"
        },
        "id": "ZPtFlM1HuGPI",
        "outputId": "115d5386-90b2-49d2-aa48-d3c569ccefab"
      },
      "execution_count": 11,
      "outputs": [
        {
          "output_type": "stream",
          "name": "stdout",
          "text": [
            "Jakarta Bandung Semarang Yogyakarta Surabaya Solo \n",
            "\n",
            "DFS dari simpul Jakarta:\n",
            "Jakarta Bandung Yogyakarta Semarang Surabaya Solo "
          ]
        }
      ]
    },
    {
      "cell_type": "code",
      "source": [
        "def bfs_return_list(graph, start):\n",
        "    visited = set()\n",
        "    queue = deque([start])\n",
        "    traversal_order = []\n",
        "\n",
        "    while queue:\n",
        "        vertex = queue.popleft()\n",
        "        if vertex not in visited:\n",
        "            traversal_order.append(vertex)\n",
        "            visited.add(vertex)\n",
        "            queue.extend([neighbor for neighbor in graph[vertex] if neighbor not in visited])\n",
        "    return traversal_order\n",
        "\n",
        "print(f\"\\n\\nUrutan kunjungan BFS dari 'Jakarta': {bfs_return_list(my_graph, 'Jakarta')}\")"
      ],
      "metadata": {
        "colab": {
          "base_uri": "https://localhost:8080/"
        },
        "id": "r5scHsusu6Is",
        "outputId": "c4339d69-9632-4027-84e2-08b4c9827ef0"
      },
      "execution_count": 12,
      "outputs": [
        {
          "output_type": "stream",
          "name": "stdout",
          "text": [
            "\n",
            "\n",
            "Urutan kunjungan BFS dari 'Jakarta': ['Jakarta', 'Bandung', 'Semarang', 'Yogyakarta', 'Surabaya', 'Solo']\n"
          ]
        }
      ]
    },
    {
      "cell_type": "code",
      "source": [
        "def find_path(graph, start, end, path=None, visited=None):\n",
        "    if path is None:\n",
        "        path = []\n",
        "    if visited is None:\n",
        "        visited = set()\n",
        "\n",
        "    path = path + [start]\n",
        "    visited.add(start)\n",
        "\n",
        "    if start == end:\n",
        "        return path\n",
        "    for neighbor in graph[start]:\n",
        "        if neighbor not in visited:\n",
        "            result_path = find_path(graph, neighbor, end, path, visited.copy())\n",
        "            if result_path:\n",
        "                return result_path\n",
        "    return None\n",
        "\n",
        "print(f\"\\nJalur dari 'Jakarta' ke 'Solo': {find_path(my_graph, 'Jakarta', 'Solo')}\")\n",
        "print(f\"Jalur dari 'Bandung' ke 'Surabaya': {find_path(my_graph, 'Bandung', 'Surabaya')}\")\n",
        "print(f\"Jalur dari 'Solo' ke 'Jakarta': {find_path(my_graph, 'Solo', 'Jakarta')}\")\n",
        "print(f\"Jalur dari 'A' ke 'F' di graf awal: {find_path(graph, 'A', 'F')}\")\n",
        "print(f\"Jalur dari 'A' ke 'Z' (tidak ada) di graf awal: {find_path(graph, 'A', 'Z')}\")"
      ],
      "metadata": {
        "colab": {
          "base_uri": "https://localhost:8080/"
        },
        "id": "zXWYf-wvvfL2",
        "outputId": "55585190-b240-47b0-f4e5-98d32a55fce5"
      },
      "execution_count": 13,
      "outputs": [
        {
          "output_type": "stream",
          "name": "stdout",
          "text": [
            "\n",
            "Jalur dari 'Jakarta' ke 'Solo': ['Jakarta', 'Bandung', 'Yogyakarta', 'Semarang', 'Surabaya', 'Solo']\n",
            "Jalur dari 'Bandung' ke 'Surabaya': ['Bandung', 'Jakarta', 'Semarang', 'Yogyakarta', 'Solo', 'Surabaya']\n",
            "Jalur dari 'Solo' ke 'Jakarta': ['Solo', 'Yogyakarta', 'Bandung', 'Jakarta']\n",
            "Jalur dari 'A' ke 'F' di graf awal: ['A', 'B', 'E', 'F']\n",
            "Jalur dari 'A' ke 'Z' (tidak ada) di graf awal: None\n"
          ]
        }
      ]
    },
    {
      "cell_type": "code",
      "source": [
        "def is_connected(graph):\n",
        "    if not graph:\n",
        "        return True\n",
        "\n",
        "    start_node = list(graph.keys())[0]\n",
        "\n",
        "    visited = set()\n",
        "\n",
        "    def dfs_helper(current_node):\n",
        "        visited.add(current_node)\n",
        "        for neighbor in graph[current_node]:\n",
        "            if neighbor not in visited:\n",
        "                dfs_helper(neighbor)\n",
        "\n",
        "    dfs_helper(start_node)\n",
        "\n",
        "    return len(visited) == len(graph)\n",
        "\n",
        "print(f\"\\nApakah 'my_graph' terhubung? {is_connected(my_graph)}\")\n",
        "\n",
        "disconnected_graph = {\n",
        "    'A': ['B'],\n",
        "    'B': ['A'],\n",
        "    'C': ['D'],\n",
        "    'D': ['C']\n",
        "}\n",
        "print(f\"Apakah 'disconnected_graph' terhubung? {is_connected(disconnected_graph)}\")\n",
        "\n",
        "isolated_node_graph = {\n",
        "    'X': ['Y'],\n",
        "    'Y': ['X'],\n",
        "    'Z': []\n",
        "}\n",
        "print(f\"Apakah 'isolated_node_graph' terhubung? {is_connected(isolated_node_graph)}\")"
      ],
      "metadata": {
        "colab": {
          "base_uri": "https://localhost:8080/"
        },
        "id": "C_I9eQG3wFKr",
        "outputId": "b5efa19c-4966-45c7-af6a-4e56b59c3a43"
      },
      "execution_count": 14,
      "outputs": [
        {
          "output_type": "stream",
          "name": "stdout",
          "text": [
            "\n",
            "Apakah 'my_graph' terhubung? True\n",
            "Apakah 'disconnected_graph' terhubung? False\n",
            "Apakah 'isolated_node_graph' terhubung? False\n"
          ]
        }
      ]
    }
  ]
}