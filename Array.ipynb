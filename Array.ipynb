{
  "nbformat": 4,
  "nbformat_minor": 0,
  "metadata": {
    "colab": {
      "provenance": [],
      "authorship_tag": "ABX9TyNvaMpuOrRwJYWrnwTGGwbp",
      "include_colab_link": true
    },
    "kernelspec": {
      "name": "python3",
      "display_name": "Python 3"
    },
    "language_info": {
      "name": "python"
    }
  },
  "cells": [
    {
      "cell_type": "markdown",
      "metadata": {
        "id": "view-in-github",
        "colab_type": "text"
      },
      "source": [
        "<a href=\"https://colab.research.google.com/github/Nadinerachma/Struktur-Data/blob/main/Array.ipynb\" target=\"_parent\"><img src=\"https://colab.research.google.com/assets/colab-badge.svg\" alt=\"Open In Colab\"/></a>"
      ]
    },
    {
      "cell_type": "markdown",
      "source": [
        "Deklarasi dan inisialisasi array"
      ],
      "metadata": {
        "id": "MK7tHXMh9xbA"
      }
    },
    {
      "cell_type": "code",
      "execution_count": null,
      "metadata": {
        "colab": {
          "base_uri": "https://localhost:8080/"
        },
        "id": "MJQRY1wV2IDV",
        "outputId": "a2d6bb8b-1cf4-4893-ed75-8cf88edec811"
      },
      "outputs": [
        {
          "output_type": "stream",
          "name": "stdout",
          "text": [
            "isi array angka: [10, 20, 30, 40, 50]\n",
            "Elemen pertama: 10\n",
            "Elemen terakhir: 50\n"
          ]
        }
      ],
      "source": [
        "# Deklarasikan array kosong\n",
        "data = []\n",
        "\n",
        "# Inisialisasi array dengan elemen\n",
        "angka = [10, 20, 30, 40, 50]\n",
        "\n",
        "#Menampilkan isi array\n",
        "print(\"isi array angka:\", angka)\n",
        "\n",
        "#Mengakses elemen array\n",
        "print(\"Elemen pertama:\", angka[0])\n",
        "print(\"Elemen terakhir:\", angka[-1])\n"
      ]
    },
    {
      "cell_type": "markdown",
      "source": [
        "Latihan 1"
      ],
      "metadata": {
        "id": "pjPoIn6O93op"
      }
    },
    {
      "cell_type": "code",
      "source": [
        "# Deklarasikan array kosong\n",
        "data = []\n",
        "\n",
        "# Inisialisasi array dengan elemen\n",
        "angka = [22, 40, 50, 60, 71]\n",
        "\n",
        "# Menampilakn isi array\n",
        "print(\"Isi array angka:\", angka)\n",
        "\n",
        "# Mengakses elemen array\n",
        "print(\"Elemen pertama:\", angka[0])\n",
        "print(\"Elemen terakhir:\", angka[-1])"
      ],
      "metadata": {
        "colab": {
          "base_uri": "https://localhost:8080/"
        },
        "id": "Ww5ElHs679vQ",
        "outputId": "0413d3fe-5182-4c85-9c8c-40ad36447839"
      },
      "execution_count": null,
      "outputs": [
        {
          "output_type": "stream",
          "name": "stdout",
          "text": [
            "Isi array angka: [22, 40, 50, 60, 71]\n",
            "Elemen pertama: 22\n",
            "Elemen terakhir: 71\n"
          ]
        }
      ]
    },
    {
      "cell_type": "markdown",
      "source": [
        "Menambah elemen array"
      ],
      "metadata": {
        "id": "2i1ic-tQ95nB"
      }
    },
    {
      "cell_type": "code",
      "source": [
        "# Menambahkan elemen menggunakan appdend()\n",
        "angka.append(60)\n",
        "print(\"Array setelah penambahan elemen:\", angka)\n",
        "\n",
        "# Menambah elemen menggunakan insert()\n",
        "angka.insert(2, 25) # Menyisipkan 25 di indeks ke-2\n",
        "print(\"array setelah penambahan elemen dengan insert:\", angka)"
      ],
      "metadata": {
        "colab": {
          "base_uri": "https://localhost:8080/"
        },
        "id": "A5ytgnpU4fwS",
        "outputId": "fdbb4f30-cce4-4749-a67c-5eb4acf889a8"
      },
      "execution_count": null,
      "outputs": [
        {
          "output_type": "stream",
          "name": "stdout",
          "text": [
            "Array setelah penambahan elemen: [10, 20, 30, 40, 50, 60]\n",
            "array setelah penambahan elemen dengan insert: [10, 20, 25, 30, 40, 50, 60]\n"
          ]
        }
      ]
    },
    {
      "cell_type": "markdown",
      "source": [
        "Menghapus elemen array"
      ],
      "metadata": {
        "id": "YdUaVbC099Og"
      }
    },
    {
      "cell_type": "code",
      "source": [
        "# Menghapus elemen menggunakan remove()\n",
        "angka.remove(25)\n",
        "print(\"Array setelah menghapus elemen 25:\", angka)\n",
        "\n",
        "# Menghapus elemen menggunakan pop()\n",
        "angka.pop(2)\n",
        "print(\"array setelah menghapus elemen pada indeks 2:\", angka)"
      ],
      "metadata": {
        "colab": {
          "base_uri": "https://localhost:8080/"
        },
        "id": "ZjUIhIQr8IQJ",
        "outputId": "de08d115-4bea-452e-bd1b-f05700779e5d"
      },
      "execution_count": null,
      "outputs": [
        {
          "output_type": "stream",
          "name": "stdout",
          "text": [
            "Array setelah menghapus elemen 25: [10, 20, 30, 40, 50, 60]\n",
            "array setelah menghapus elemen pada indeks 2: [10, 20, 40, 50, 60]\n"
          ]
        }
      ]
    },
    {
      "cell_type": "markdown",
      "source": [
        "Mengubah elemen array"
      ],
      "metadata": {
        "id": "mcSG8Ye4-Adw"
      }
    },
    {
      "cell_type": "code",
      "source": [
        "# Mengubah elemen pada indeks 0\n",
        "angka[0] = 100\n",
        "print(\"Array setelah mengubah elemen pertama:\", angka)"
      ],
      "metadata": {
        "colab": {
          "base_uri": "https://localhost:8080/"
        },
        "id": "25MYsxHq9UwI",
        "outputId": "9ef7e18e-77af-435e-f7a8-0e9e8ebc8035"
      },
      "execution_count": null,
      "outputs": [
        {
          "output_type": "stream",
          "name": "stdout",
          "text": [
            "Array setelah mengubah elemen pertama: [100, 40, 50, 60, 71]\n"
          ]
        }
      ]
    },
    {
      "cell_type": "code",
      "source": [
        "# Mengubah elemen pada indeks 0\n",
        "angka[0] = 50\n",
        "print(\"Array setelah mengubah elemen pertama:\", angka)"
      ],
      "metadata": {
        "colab": {
          "base_uri": "https://localhost:8080/"
        },
        "id": "kYyggYth9uGZ",
        "outputId": "2e7d07c9-71e7-4ed7-9299-762358b416cc"
      },
      "execution_count": null,
      "outputs": [
        {
          "output_type": "stream",
          "name": "stdout",
          "text": [
            "Array setelah mengubah elemen pertama: [50, 40, 50, 60, 71]\n"
          ]
        }
      ]
    },
    {
      "cell_type": "code",
      "source": [
        "# Mengubah elemen pada indeks -1\n",
        "angka[-1] = 50\n",
        "print(\"Array setelah mengubah elemen pertama:\", angka)"
      ],
      "metadata": {
        "colab": {
          "base_uri": "https://localhost:8080/"
        },
        "id": "Cybdkr74-Mew",
        "outputId": "5fd70366-225a-46b9-9e4b-f563aaf9dbf0"
      },
      "execution_count": null,
      "outputs": [
        {
          "output_type": "stream",
          "name": "stdout",
          "text": [
            "Array setelah mengubah elemen pertama: [50, 40, 50, 60, 50]\n"
          ]
        }
      ]
    },
    {
      "cell_type": "markdown",
      "source": [
        "Latihan 2\n"
      ],
      "metadata": {
        "id": "6U7FphcI-XAB"
      }
    },
    {
      "cell_type": "code",
      "source": [
        "# Menambahkan nilai NPM (2 digit terakhir) ke dalam array angka dan hapus elemen pertama\n",
        "# Deklarasikan array kosong\n",
        "data = []\n",
        "\n",
        "# Inisialisasi array dengan elemen\n",
        "angka = [22, 40, 50, 60]\n",
        "\n",
        "# Menampilakn isi array\n",
        "print(\"Isi array angka:\", angka)\n",
        "\n",
        "# Mengakses elemen array\n",
        "print(\"Elemen pertama:\", angka[0])\n",
        "print(\"Elemen terakhir:\", angka[-1])\n",
        "\n",
        "# Menambahkan elemen menggunakan appdend()\n",
        "angka.append(71)\n",
        "print(\"Array setelah penambahan elemen:\", angka)\n",
        "\n",
        "# Menghapus elemen menggunakan remove()\n",
        "angka.remove(22)\n",
        "print(\"Array setelah menghapus elemen 22:\", angka)\n",
        "\n",
        "# Mengakses elemen array\n",
        "print(\"Elemen pertama:\", angka[0])\n",
        "print(\"Elemen terakhir:\", angka[-1])"
      ],
      "metadata": {
        "colab": {
          "base_uri": "https://localhost:8080/"
        },
        "id": "i-IPP7ES-Ysg",
        "outputId": "07c3b970-01a6-4e0e-bdbf-2281190df537"
      },
      "execution_count": null,
      "outputs": [
        {
          "output_type": "stream",
          "name": "stdout",
          "text": [
            "Isi array angka: [22, 40, 50, 60]\n",
            "Elemen pertama: 22\n",
            "Elemen terakhir: 60\n",
            "Array setelah penambahan elemen: [22, 40, 50, 60, 71]\n",
            "Array setelah menghapus elemen 22: [40, 50, 60, 71]\n",
            "Elemen pertama: 40\n",
            "Elemen terakhir: 71\n"
          ]
        }
      ]
    },
    {
      "cell_type": "markdown",
      "source": [
        "Iterasi dengan perulangan"
      ],
      "metadata": {
        "id": "pNJ9S0Mq_y2Y"
      }
    },
    {
      "cell_type": "code",
      "source": [
        "angka = [10, 20, 30, 40]\n",
        "\n",
        "for nilai in angka:\n",
        "  print(\"Nilai:\", nilai)"
      ],
      "metadata": {
        "colab": {
          "base_uri": "https://localhost:8080/"
        },
        "id": "q7dekKQ6_wbp",
        "outputId": "b7e58afb-3d22-4663-95ff-90bd24c3f27d"
      },
      "execution_count": null,
      "outputs": [
        {
          "output_type": "stream",
          "name": "stdout",
          "text": [
            "Nilai: 10\n",
            "Nilai: 20\n",
            "Nilai: 30\n",
            "Nilai: 40\n"
          ]
        }
      ]
    },
    {
      "cell_type": "markdown",
      "source": [
        "Latihan 3"
      ],
      "metadata": {
        "id": "cwTPDONCBTOY"
      }
    },
    {
      "cell_type": "code",
      "source": [
        "data = [\"Teknik\", \"Ekonomi\", \"Keguruan dan Ilmu Pendidikan\", \"Ilmu Sosial dan Ilmu Politik\", \"Pertanian\"]\n",
        "\n",
        "for nilai in data:\n",
        "  print(\"Fakultas:\", nilai)"
      ],
      "metadata": {
        "colab": {
          "base_uri": "https://localhost:8080/"
        },
        "id": "04Ymzy5MAG6o",
        "outputId": "dd2502b9-e864-4f1b-aae7-95ea0a4da20c"
      },
      "execution_count": null,
      "outputs": [
        {
          "output_type": "stream",
          "name": "stdout",
          "text": [
            "Fakultas: Teknik\n",
            "Fakultas: Ekonomi\n",
            "Fakultas: Keguruan dan Ilmu Pendidikan\n",
            "Fakultas: Ilmu Sosial dan Ilmu Politik\n",
            "Fakultas: Pertanian\n"
          ]
        }
      ]
    },
    {
      "cell_type": "markdown",
      "source": [
        "Operasi matematikan sederhana"
      ],
      "metadata": {
        "id": "Mo0Cko56CLFg"
      }
    },
    {
      "cell_type": "code",
      "source": [
        "angka = [10, 20, 30, 40]\n",
        "\n",
        "print(\"Jumlah total:\",(angka))\n",
        "print(\"Nilai maksimum:\", max(angka))\n",
        "print(\"Nilai minimum:\", min(angka))"
      ],
      "metadata": {
        "colab": {
          "base_uri": "https://localhost:8080/"
        },
        "id": "K_IwHcJCBbwR",
        "outputId": "ed25438a-7583-445b-cbcb-6ac2e6af5816"
      },
      "execution_count": null,
      "outputs": [
        {
          "output_type": "stream",
          "name": "stdout",
          "text": [
            "Jumlah total: [10, 20, 30, 40]\n",
            "Nilai maksimum: 40\n",
            "Nilai minimum: 10\n"
          ]
        }
      ]
    },
    {
      "cell_type": "markdown",
      "source": [
        "Latihan 4"
      ],
      "metadata": {
        "id": "BmYW9F4AD_7Y"
      }
    },
    {
      "cell_type": "code",
      "source": [
        "# Membuat array berisi harga barang dan hitung jumlah elemen dari array tersebut\n",
        "harga = [\"2000\", \"5000\", \"10000\", \"15000\"]\n",
        "\n",
        "print(\"Jumlah elemen harga barang\", len(harga))\n",
        "print(\"Jumlah maksimum harga barang\", max(harga))\n",
        "print(\"Jumlah minimum harga barang\", min(harga))"
      ],
      "metadata": {
        "colab": {
          "base_uri": "https://localhost:8080/"
        },
        "id": "lSaPUnfgCB_P",
        "outputId": "420603e6-d445-423e-f2e7-3a76f7f64964"
      },
      "execution_count": null,
      "outputs": [
        {
          "output_type": "stream",
          "name": "stdout",
          "text": [
            "Jumlah elemen harga barang 4\n",
            "Jumlah maksimum harga barang 5000\n",
            "Jumlah minimum harga barang 10000\n"
          ]
        }
      ]
    },
    {
      "cell_type": "markdown",
      "source": [
        "Deklarasi dan inisialisasi array 2D"
      ],
      "metadata": {
        "id": "F-Z4R0q6F0m3"
      }
    },
    {
      "cell_type": "code",
      "source": [
        "# Deklarasi array 2D\n",
        "matriks = [\n",
        "    [1, 2, 3],\n",
        "    [4, 5, 6],\n",
        "    [7, 8, 9],\n",
        "]\n",
        "\n",
        "# Menampilkan isi array 2D\n",
        "print(\"Isi array 2D:\")\n",
        "for baris in matriks:\n",
        "  print(baris)"
      ],
      "metadata": {
        "colab": {
          "base_uri": "https://localhost:8080/"
        },
        "id": "iUX2eeBqE48g",
        "outputId": "ce1fae55-3eb3-41cb-8c81-286b0d791305"
      },
      "execution_count": null,
      "outputs": [
        {
          "output_type": "stream",
          "name": "stdout",
          "text": [
            "Isi array 2D:\n",
            "[1, 2, 3]\n",
            "[4, 5, 6]\n",
            "[7, 8, 9]\n"
          ]
        }
      ]
    },
    {
      "cell_type": "markdown",
      "source": [
        "Latihan 5"
      ],
      "metadata": {
        "id": "PDqGRLgGF8vA"
      }
    },
    {
      "cell_type": "code",
      "source": [
        "# Buat array 2D yang berisi 3 baris dan 4 kolom, lalu tampilkan isi aray tersebut menggunakan perulangan\n",
        "# Deklarasi array 2D\n",
        "matriks = [\n",
        "    [1, 2, 3, 4],\n",
        "    [5, 6, 7, 8],\n",
        "    [9, 10, 11, 12],\n",
        "]\n",
        "\n",
        "# Menampilkan isi array 2D\n",
        "print(\"Isi array 2D:\")\n",
        "for baris in matriks:\n",
        "  print(baris)\n",
        "\n",
        "for nilai in baris:\n",
        "  print(\"Nilai\", nilai)"
      ],
      "metadata": {
        "colab": {
          "base_uri": "https://localhost:8080/"
        },
        "id": "VeStl5LbF5DA",
        "outputId": "67ab021e-f8ed-41ae-d455-99e7830b96ad"
      },
      "execution_count": null,
      "outputs": [
        {
          "output_type": "stream",
          "name": "stdout",
          "text": [
            "Maka perulangan\n",
            "Isi array 2D:\n",
            "[1, 2, 3, 4]\n",
            "[5, 6, 7, 8]\n",
            "[9, 10, 11, 12]\n",
            "Nilai 9\n",
            "Nilai 10\n",
            "Nilai 11\n",
            "Nilai 12\n"
          ]
        }
      ]
    },
    {
      "cell_type": "markdown",
      "source": [
        "Mengakses elemen array 2D"
      ],
      "metadata": {
        "id": "vUfRKvCDHusP"
      }
    },
    {
      "cell_type": "code",
      "source": [
        "# Mengakses elemen pada baris ke-1, kolom ke-2 (indeks [0][1])\n",
        "print(\"Elemen pada baris 1, kolom 2:\", matriks[0][1])\n",
        "\n",
        "# Mengakses elemen terakhir (baris ke-3, kolom ke-3)\n",
        "print(\"Elemen terakhir:\", matriks[-1][-1])"
      ],
      "metadata": {
        "colab": {
          "base_uri": "https://localhost:8080/"
        },
        "id": "zdiDsZBsHAKB",
        "outputId": "cbba4113-7294-4f92-f4b3-8e494e16c184"
      },
      "execution_count": null,
      "outputs": [
        {
          "output_type": "stream",
          "name": "stdout",
          "text": [
            "Elemen pada baris 1, kolom 2: 2\n",
            "Elemen terakhir: 12\n"
          ]
        }
      ]
    },
    {
      "cell_type": "markdown",
      "source": [
        "Latihan 6"
      ],
      "metadata": {
        "id": "C7h9TRp6JiLQ"
      }
    },
    {
      "cell_type": "code",
      "source": [
        "# Buat array 2D yang berisi 3 baris dan 4 kolom, lalu tampilkan isi aray tersebut menggunakan perulangan\n",
        "# Deklarasi array 2D\n",
        "matriks = [\n",
        "    [1, 2, 3, 4],\n",
        "    [5, 6, 7, 8],\n",
        "    [9, 10, 11, 12],\n",
        "]\n",
        "\n",
        "# Akses elemen pada baris 2 kolom 4 dari array dimensi di latihan 5\n",
        "print(\"Elemen pada baris 2, kolom 4:\", matriks[0][1])\n",
        "\n",
        "# Mengakses elemen terakhir (baris ke-2, kolom ke-4)\n",
        "print(\"Elemen terakhir:\", matriks[-1][-1])"
      ],
      "metadata": {
        "colab": {
          "base_uri": "https://localhost:8080/"
        },
        "id": "JNCi3GU9HyYg",
        "outputId": "4b3c3094-029f-4f1a-f1af-15866bb79984"
      },
      "execution_count": null,
      "outputs": [
        {
          "output_type": "stream",
          "name": "stdout",
          "text": [
            "Elemen pada baris 2, kolom 4: 2\n",
            "Elemen terakhir: 12\n"
          ]
        }
      ]
    },
    {
      "cell_type": "markdown",
      "source": [
        "Menambah elemen ke array 2D"
      ],
      "metadata": {
        "id": "FHhyqnevJy_w"
      }
    },
    {
      "cell_type": "code",
      "source": [
        "matriks.append([10, 11, 12])\n",
        "print(\"Array setelah menambahkan baris baru:\", matriks)\n",
        "\n",
        "matriks[1].append(99)\n",
        "print(\"Array setelah menambahkan elemen di baris ke-2:\", matriks)"
      ],
      "metadata": {
        "colab": {
          "base_uri": "https://localhost:8080/"
        },
        "id": "9JPnKijJJfFo",
        "outputId": "2047b420-5d79-48f5-d5ad-bf660f3042b1"
      },
      "execution_count": null,
      "outputs": [
        {
          "output_type": "stream",
          "name": "stdout",
          "text": [
            "Array setelah menambahkan baris baru: [[1, 2, 3, 4], [5, 6, 7, 8], [9, 10, 11, 12], [10, 11, 12]]\n",
            "Array setelah menambahkan elemen di baris ke-2: [[1, 2, 3, 4], [5, 6, 7, 8, 99], [9, 10, 11, 12], [10, 11, 12]]\n"
          ]
        }
      ]
    },
    {
      "cell_type": "markdown",
      "source": [
        "Latihan 7"
      ],
      "metadata": {
        "id": "7fBIl0YVLs3B"
      }
    },
    {
      "cell_type": "code",
      "source": [
        "matriks.append([12, 2, 20, 6])\n",
        "print(\"Array setelah menambahkan baris baru:\", matriks)\n",
        "\n",
        "print(\"Isi array 2D:\")\n",
        "for baris in matriks:\n",
        "  print(baris)"
      ],
      "metadata": {
        "colab": {
          "base_uri": "https://localhost:8080/"
        },
        "id": "4ahvaq-bLe_Y",
        "outputId": "125f4e3e-682f-49c7-f232-0461d61c3eba"
      },
      "execution_count": null,
      "outputs": [
        {
          "output_type": "stream",
          "name": "stdout",
          "text": [
            "Array setelah menambahkan baris baru: [[1, 2, 3, 4], [5, 6, 7, 8, 99, 12, 12, 12], [9, 10, 11, 12], [10, 11, 12], [10, 11, 12], [10, 11, 12], [12, 2, 20, 6], [10, 11, 12], [10, 11, 12], [12, 2, 20, 6], [12, 2, 20, 6]]\n",
            "Isi array 2D:\n",
            "[1, 2, 3, 4]\n",
            "[5, 6, 7, 8, 99, 12, 12, 12]\n",
            "[9, 10, 11, 12]\n",
            "[10, 11, 12]\n",
            "[10, 11, 12]\n",
            "[10, 11, 12]\n",
            "[12, 2, 20, 6]\n",
            "[10, 11, 12]\n",
            "[10, 11, 12]\n",
            "[12, 2, 20, 6]\n",
            "[12, 2, 20, 6]\n"
          ]
        }
      ]
    },
    {
      "cell_type": "markdown",
      "source": [
        "Menghapus elemen dari array 2D"
      ],
      "metadata": {
        "id": "48T0t8tKNJIo"
      }
    },
    {
      "cell_type": "markdown",
      "source": [
        "Latihan 8"
      ],
      "metadata": {
        "id": "84PzOpIqGclU"
      }
    },
    {
      "cell_type": "code",
      "source": [
        "matriks = [\n",
        "    [1, 2, 3, 4],\n",
        "    [5, 6, 7, 8],\n",
        "    [9, 10, 11, 12],\n",
        "]\n",
        "\n",
        "matriks[0].remove(2)\n",
        "print(\"Array setelah menghapus elemen 2 dari baris pertama:\", matriks)\n",
        "\n",
        "matriks[1].pop(1)\n",
        "print(\"Array setelah menghapus elemen indeks ke-1 dari baris ke-2:\", matriks)"
      ],
      "metadata": {
        "id": "iWbfYAsbNP64",
        "colab": {
          "base_uri": "https://localhost:8080/"
        },
        "outputId": "dbbc1771-7b2d-429a-ed7f-a9adfca4a343"
      },
      "execution_count": null,
      "outputs": [
        {
          "output_type": "stream",
          "name": "stdout",
          "text": [
            "Array setelah menghapus elemen 2 dari baris pertama: [[1, 3, 4], [5, 6, 7, 8], [9, 10, 11, 12]]\n",
            "Array setelah menghapus elemen indeks ke-1 dari baris ke-2: [[1, 3, 4], [5, 7, 8], [9, 10, 11, 12]]\n"
          ]
        }
      ]
    },
    {
      "cell_type": "code",
      "source": [
        "matriks = [\n",
        "    [1, 2, 3, 4],\n",
        "    [5, 6, 7, 8],\n",
        "    [9, 10, 11, 12],\n",
        "]\n",
        "\n",
        "matriks[2] [1] = 88\n",
        "print(\"Array setelah mengubah elemen baris ke-3, kolom ke-2:\", matriks)\n",
        "\n",
        "print(\"Isi array 2D:\")\n",
        "for baris in matriks:\n",
        "  print(baris)\n"
      ],
      "metadata": {
        "colab": {
          "base_uri": "https://localhost:8080/"
        },
        "id": "qFnAgdmjGObs",
        "outputId": "b57386ab-26d5-4b08-8c6c-0ee523cd0127"
      },
      "execution_count": null,
      "outputs": [
        {
          "output_type": "stream",
          "name": "stdout",
          "text": [
            "Array setelah mengubah elemen baris ke-3, kolom ke-2: [[1, 2, 3, 4], [5, 6, 7, 8], [9, 88, 11, 12]]\n",
            "Isi array 2D:\n",
            "[1, 2, 3, 4]\n",
            "[5, 6, 7, 8]\n",
            "[9, 88, 11, 12]\n"
          ]
        }
      ]
    },
    {
      "cell_type": "markdown",
      "source": [
        "Latihan 9"
      ],
      "metadata": {
        "id": "Ldz05PQOIe1L"
      }
    },
    {
      "cell_type": "code",
      "source": [
        "matriks = [\n",
        "    [1, 2, 3, 4],\n",
        "    [5, 6, 7, 8],\n",
        "    [9, 10, 11, 12],\n",
        "]\n",
        "\n",
        "matriks.append([10, 11, 12])\n",
        "print(\"Array setelah menambahkan baris baru:\", matriks)\n",
        "\n",
        "matriks[1].append(99)\n",
        "print(\"Array setelah menambahkan elemen di baris ke-2:\", matriks)\n",
        "\n",
        "print(\"Isi array 2D:\")\n",
        "for baris in matriks:\n",
        "  print(baris)"
      ],
      "metadata": {
        "colab": {
          "base_uri": "https://localhost:8080/"
        },
        "id": "ZEFTViO4Gwgz",
        "outputId": "40185850-f56b-42f9-a296-a8f623791a09"
      },
      "execution_count": null,
      "outputs": [
        {
          "output_type": "stream",
          "name": "stdout",
          "text": [
            "Array setelah menambahkan baris baru: [[1, 2, 3, 4], [5, 6, 7, 8], [9, 10, 11, 12], [10, 11, 12]]\n",
            "Array setelah menambahkan elemen di baris ke-2: [[1, 2, 3, 4], [5, 6, 7, 8, 99], [9, 10, 11, 12], [10, 11, 12]]\n",
            "Isi array 2D:\n",
            "[1, 2, 3, 4]\n",
            "[5, 6, 7, 8, 99]\n",
            "[9, 10, 11, 12]\n",
            "[10, 11, 12]\n"
          ]
        }
      ]
    },
    {
      "cell_type": "markdown",
      "source": [
        "Latihan 10"
      ],
      "metadata": {
        "id": "OUt5gWt3axWh"
      }
    },
    {
      "cell_type": "code",
      "source": [
        "belanja = [\"Beras\", \"Minyak Goreng\", \"Gula\", \"Kopi\", \"Teh\"]\n",
        "\n",
        "print(\"Daftar belanja awal:\", belanja)\n",
        "\n",
        "belanja.append(\"Susu\")\n",
        "print(\"Setelah menambahkan Susu:\", belanja)\n",
        "\n",
        "belanja.remove(\"Gula\")\n",
        "print(\"Setelah menghapus Gula:\", belanja)\n",
        "\n",
        "belanja[1] = \"Madu\"\n",
        "print(\"Setelah mengganti Minyak Goreng dengan Madu:\", belanja)\n",
        "\n",
        "print(\"Daftar belanja akhir:\", belanja)\n"
      ],
      "metadata": {
        "id": "Mwzwmh6hIZ2k",
        "colab": {
          "base_uri": "https://localhost:8080/"
        },
        "outputId": "6d063dd3-3c00-44a8-ce4c-1bf2314bec6a"
      },
      "execution_count": 1,
      "outputs": [
        {
          "output_type": "stream",
          "name": "stdout",
          "text": [
            "Daftar belanja awal: ['Beras', 'Minyak Goreng', 'Gula', 'Kopi', 'Teh']\n",
            "Setelah menambahkan Susu: ['Beras', 'Minyak Goreng', 'Gula', 'Kopi', 'Teh', 'Susu']\n",
            "Setelah menghapus Gula: ['Beras', 'Minyak Goreng', 'Kopi', 'Teh', 'Susu']\n",
            "Setelah mengganti Minyak Goreng dengan Madu: ['Beras', 'Madu', 'Kopi', 'Teh', 'Susu']\n",
            "Daftar belanja akhir: ['Beras', 'Madu', 'Kopi', 'Teh', 'Susu']\n"
          ]
        }
      ]
    },
    {
      "cell_type": "code",
      "source": [
        "import random\n",
        "\n",
        "# Input ukuran peta dari pengguna\n",
        "size = int(input(\"Masukkan ukuran peta: \"))\n",
        "\n",
        "# Membuat peta dengan harta karun tersembunyi\n",
        "treasure_map = [\"_\" for _ in range(size)]\n",
        "\n",
        "# Acak lokasi harta karun\n",
        "treasure_index = random.randint(0, size - 1)\n",
        "\n",
        "# Fungsi untuk memulai permainan\n",
        "def play_treasure_hunt():\n",
        "    print(\"\\nHarta karun telah disembunyikan! Sekarang giliran pemain menebak.\")\n",
        "    print(\"Cobalah untuk menemukan harta karun dengan menebak indeks yang benar.\\n\")\n",
        "\n",
        "    # Loop permainan\n",
        "    while True:\n",
        "        # Menampilkan peta tersembunyi\n",
        "        print(\"Peta saat ini:\", treasure_map)\n",
        "\n",
        "        # Input pemain\n",
        "        try:\n",
        "            guess = int(input(f\"Masukkan indeks tebakanmu (0-{size-1}): \"))\n",
        "        except ValueError:\n",
        "            print(\"Masukkan angka yang valid!\")\n",
        "            continue\n",
        "\n",
        "        # Validasi input\n",
        "        if guess < 0 or guess >= size:\n",
        "            print(f\"Indeks tidak valid, pilih antara 0 hingga {size-1}\")\n",
        "            continue\n",
        "\n",
        "        # Mengecek apakah tebakan benar\n",
        "        if guess == treasure_index:\n",
        "            treasure_map[guess] = \"X\"\n",
        "            print(\"\\n🎉 Selamat! Kamu menemukan harta karun di lokasi:\", guess)\n",
        "            break\n",
        "        else:\n",
        "            treasure_map[guess] = \"O\"\n",
        "            print(\"❌ Tidak ada harta di lokasi ini, coba lagi!\\n\")\n",
        "\n",
        "    print(\"\\nPeta akhir:\", treasure_map)\n",
        "    print(\"Terima kasih sudah bermain!\")\n",
        "\n",
        "# Jalankan permainan\n",
        "play_treasure_hunt()\n"
      ],
      "metadata": {
        "colab": {
          "base_uri": "https://localhost:8080/"
        },
        "id": "wmekIDMJdnpN",
        "outputId": "3ac90114-8104-4cdf-a12d-cc4dc31741b5"
      },
      "execution_count": 2,
      "outputs": [
        {
          "output_type": "stream",
          "name": "stdout",
          "text": [
            "Masukkan ukuran peta: 10\n",
            "\n",
            "Harta karun telah disembunyikan! Sekarang giliran pemain menebak.\n",
            "Cobalah untuk menemukan harta karun dengan menebak indeks yang benar.\n",
            "\n",
            "Peta saat ini: ['_', '_', '_', '_', '_', '_', '_', '_', '_', '_']\n",
            "Masukkan indeks tebakanmu (0-9): 4\n",
            "❌ Tidak ada harta di lokasi ini, coba lagi!\n",
            "\n",
            "Peta saat ini: ['_', '_', '_', '_', 'O', '_', '_', '_', '_', '_']\n",
            "Masukkan indeks tebakanmu (0-9): 2\n",
            "❌ Tidak ada harta di lokasi ini, coba lagi!\n",
            "\n",
            "Peta saat ini: ['_', '_', 'O', '_', 'O', '_', '_', '_', '_', '_']\n",
            "Masukkan indeks tebakanmu (0-9): 4\n",
            "❌ Tidak ada harta di lokasi ini, coba lagi!\n",
            "\n",
            "Peta saat ini: ['_', '_', 'O', '_', 'O', '_', '_', '_', '_', '_']\n",
            "Masukkan indeks tebakanmu (0-9): 1\n",
            "❌ Tidak ada harta di lokasi ini, coba lagi!\n",
            "\n",
            "Peta saat ini: ['_', 'O', 'O', '_', 'O', '_', '_', '_', '_', '_']\n",
            "Masukkan indeks tebakanmu (0-9): 2\n",
            "❌ Tidak ada harta di lokasi ini, coba lagi!\n",
            "\n",
            "Peta saat ini: ['_', 'O', 'O', '_', 'O', '_', '_', '_', '_', '_']\n",
            "Masukkan indeks tebakanmu (0-9): 3\n",
            "\n",
            "🎉 Selamat! Kamu menemukan harta karun di lokasi: 3\n",
            "\n",
            "Peta akhir: ['_', 'O', 'O', 'X', 'O', '_', '_', '_', '_', '_']\n",
            "Terima kasih sudah bermain!\n"
          ]
        }
      ]
    }
  ]
}