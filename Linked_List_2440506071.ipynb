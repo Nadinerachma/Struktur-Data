{
  "nbformat": 4,
  "nbformat_minor": 0,
  "metadata": {
    "colab": {
      "provenance": [],
      "authorship_tag": "ABX9TyNbDCsqMxIU/93OwHqQGYD9",
      "include_colab_link": true
    },
    "kernelspec": {
      "name": "python3",
      "display_name": "Python 3"
    },
    "language_info": {
      "name": "python"
    }
  },
  "cells": [
    {
      "cell_type": "markdown",
      "metadata": {
        "id": "view-in-github",
        "colab_type": "text"
      },
      "source": [
        "<a href=\"https://colab.research.google.com/github/Nadinerachma/Struktur-Data/blob/main/Linked_List_2440506071.ipynb\" target=\"_parent\"><img src=\"https://colab.research.google.com/assets/colab-badge.svg\" alt=\"Open In Colab\"/></a>"
      ]
    },
    {
      "cell_type": "markdown",
      "source": [
        "Latihan 1"
      ],
      "metadata": {
        "id": "EJeb-d4kloTX"
      }
    },
    {
      "cell_type": "code",
      "execution_count": null,
      "metadata": {
        "id": "W-zIKr7aEeLc",
        "colab": {
          "base_uri": "https://localhost:8080/"
        },
        "outputId": "8bc48cdb-1342-4c00-b917-4a36981b4a4f"
      },
      "outputs": [
        {
          "output_type": "stream",
          "name": "stdout",
          "text": [
            "Masukkan nama mata kuliah ke-1: Pratikum Struktur Data\n",
            "Masukkan waktu mata kuliah ke-1 (contoh: 08:00 - 10:00): 07.00 - 9.30\n",
            "\n",
            "Jadwal Mata Kuliah - Jumat, 21 Februari 2025:\n",
            "1. Pratikum Struktur Data - 07.00 - 9.30\n"
          ]
        }
      ],
      "source": [
        "class CourseNode:\n",
        "    def __init__(self, course_name, time):\n",
        "        self.course_name = course_name\n",
        "        self.time = time\n",
        "        self.next = None\n",
        "\n",
        "class CourseSchedule:\n",
        "    def __init__(self):\n",
        "        self.head = None\n",
        "\n",
        "    def add_course(self, course_name, time):\n",
        "        new_course = CourseNode(course_name, time)\n",
        "        if not self.head:\n",
        "            self.head = new_course\n",
        "        else:\n",
        "            current = self.head\n",
        "            while current.next:\n",
        "                current = current.next\n",
        "            current.next = new_course\n",
        "\n",
        "    def show_schedule(self):\n",
        "        if not self.head:\n",
        "            print(\"\\nTidak ada jadwal kuliah untuk hari Jumat ini!\")\n",
        "            return\n",
        "\n",
        "        print(\"\\nJadwal Mata Kuliah - Jumat, 21 Februari 2025:\")\n",
        "        current = self.head\n",
        "        count = 1\n",
        "        while current:\n",
        "            print(f\"{count}. {current.course_name} - {current.time}\")\n",
        "            current = current.next\n",
        "            count += 1\n",
        "\n",
        "schedule = CourseSchedule()\n",
        "\n",
        "num_courses = 1\n",
        "\n",
        "for i in range(1, num_courses + 1):\n",
        "    course_name = input(f\"Masukkan nama mata kuliah ke-{i}: \")\n",
        "    course_time = input(f\"Masukkan waktu mata kuliah ke-{i} (contoh: 08:00 - 10:00): \")\n",
        "    schedule.add_course(course_name, course_time)\n",
        "\n",
        "schedule.show_schedule()\n"
      ]
    },
    {
      "cell_type": "markdown",
      "source": [
        "Latihan 2"
      ],
      "metadata": {
        "id": "HFYZQpBjnff5"
      }
    },
    {
      "cell_type": "code",
      "source": [
        "class FolderNode:\n",
        "    def __init__(self, folder_name):\n",
        "        self.folder_name = folder_name\n",
        "        self.prev = None\n",
        "        self.next = None\n",
        "\n",
        "class FolderHistory:\n",
        "    def __init__(self):\n",
        "        self.head = None\n",
        "        self.tail = None\n",
        "\n",
        "    def add_folder(self, folder_name):\n",
        "        new_folder = FolderNode(folder_name)\n",
        "        if not self.head:\n",
        "            self.head = self.tail = new_folder\n",
        "        else:\n",
        "            self.tail.next = new_folder\n",
        "            new_folder.prev = self.tail\n",
        "            self.tail = new_folder\n",
        "\n",
        "    def show_history_forward(self):\n",
        "        if not self.head:\n",
        "            print(\"\\nTidak ada riwayat navigasi folder!\")\n",
        "            return\n",
        "\n",
        "        print(\"\\nRiwayat Navigasi Folder (Maju):\")\n",
        "        current = self.head\n",
        "        count = 1\n",
        "        while current:\n",
        "            print(f\"{count}. {current.folder_name}\")\n",
        "            current = current.next\n",
        "            count += 1\n",
        "\n",
        "    def show_history_backward(self):\n",
        "        if not self.tail:\n",
        "            print(\"\\nTidak ada riwayat navigasi folder!\")\n",
        "            return\n",
        "\n",
        "        print(\"\\nRiwayat Navigasi Folder (Mundur):\")\n",
        "        current = self.tail\n",
        "        count = 1\n",
        "        while current:\n",
        "            print(f\"{count}. {current.folder_name}\")\n",
        "            current = current.prev\n",
        "            count += 1\n",
        "\n",
        "history = FolderHistory()\n",
        "\n",
        "num_folders = 1\n",
        "\n",
        "for i in range(1, num_folders + 1):\n",
        "    folder_name = input(f\"Masukkan nama folder ke-{i}: \")\n",
        "    history.add_folder(folder_name)\n",
        "\n",
        "history.show_history_forward()\n",
        "history.show_history_backward()\n"
      ],
      "metadata": {
        "colab": {
          "base_uri": "https://localhost:8080/"
        },
        "id": "82YGbv9ylsO-",
        "outputId": "834d3cac-7f92-4046-af1e-d2bf4adf802c"
      },
      "execution_count": null,
      "outputs": [
        {
          "output_type": "stream",
          "name": "stdout",
          "text": [
            "Masukkan nama folder ke-1: Struktur Data\n",
            "\n",
            "Riwayat Navigasi Folder (Maju):\n",
            "1. Struktur Data\n",
            "\n",
            "Riwayat Navigasi Folder (Mundur):\n",
            "1. Struktur Data\n"
          ]
        }
      ]
    },
    {
      "cell_type": "markdown",
      "source": [
        "Tugas"
      ],
      "metadata": {
        "id": "ilI31sacxCxN"
      }
    },
    {
      "cell_type": "code",
      "source": [
        "class Node:\n",
        "    def __init__(self, name):\n",
        "        self.name = name\n",
        "        self.next = None\n",
        "\n",
        "class CircularLinkedList:\n",
        "    def __init__(self):\n",
        "        self.head = None\n",
        "\n",
        "    def append(self, name):\n",
        "        new_node = Node(name)\n",
        "        if not self.head:\n",
        "            self.head = new_node\n",
        "            self.head.next = self.head\n",
        "        else:\n",
        "            temp = self.head\n",
        "            while temp.next != self.head:\n",
        "                temp = temp.next\n",
        "            temp.next = new_node\n",
        "            new_node.next = self.head\n",
        "\n",
        "    def generate_schedule(self, days):\n",
        "        current = self.head\n",
        "        schedule = []\n",
        "        for day in range(1, days + 1):\n",
        "            schedule.append(f\"Hari {day}: {current.name}\")\n",
        "            current = current.next\n",
        "        return schedule\n",
        "\n",
        "satpam_list = []\n",
        "for i in range(4):\n",
        "    name = input(f\"Masukkan nama satpam ke-{i+1}: \")\n",
        "    satpam_list.append(name)\n",
        "\n",
        "cll = CircularLinkedList()\n",
        "for name in satpam_list:\n",
        "    cll.append(name)\n",
        "\n",
        "schedule = cll.generate_schedule(14)\n",
        "for entry in schedule:\n",
        "    print(entry)\n"
      ],
      "metadata": {
        "colab": {
          "base_uri": "https://localhost:8080/"
        },
        "id": "vXACkGt4nd1Z",
        "outputId": "8020ae97-c70a-4d00-ae09-e0e44bbb78f6"
      },
      "execution_count": null,
      "outputs": [
        {
          "output_type": "stream",
          "name": "stdout",
          "text": [
            "Masukkan nama satpam ke-1: Andi\n",
            "Masukkan nama satpam ke-2: Budi\n",
            "Masukkan nama satpam ke-3: Charlie\n",
            "Masukkan nama satpam ke-4: Doni\n",
            "Hari 1: Andi\n",
            "Hari 2: Budi\n",
            "Hari 3: Charlie\n",
            "Hari 4: Doni\n",
            "Hari 5: Andi\n",
            "Hari 6: Budi\n",
            "Hari 7: Charlie\n",
            "Hari 8: Doni\n",
            "Hari 9: Andi\n",
            "Hari 10: Budi\n",
            "Hari 11: Charlie\n",
            "Hari 12: Doni\n",
            "Hari 13: Andi\n",
            "Hari 14: Budi\n"
          ]
        }
      ]
    },
    {
      "cell_type": "code",
      "source": [
        "class Node:\n",
        "    def __init__(self, name):\n",
        "        self.name = name\n",
        "        self.next = None\n",
        "\n",
        "class CircularLinkedList:\n",
        "    def __init__(self):\n",
        "        self.head = None\n",
        "\n",
        "    def append(self, name):\n",
        "        new_node = Node(name)\n",
        "        if not self.head:\n",
        "            self.head = new_node\n",
        "            self.head.next = self.head\n",
        "        else:\n",
        "            temp = self.head\n",
        "            while temp.next != self.head:\n",
        "                temp = temp.next\n",
        "            temp.next = new_node\n",
        "            new_node.next = self.head\n",
        "\n",
        "    def generate_schedule(self, days):\n",
        "        current = self.head\n",
        "        schedule = []\n",
        "        for day in range(1, days + 1):\n",
        "            schedule.append(f\"Hari {day}: {current.name}\")\n",
        "            current = current.next\n",
        "        return schedule\n",
        "\n",
        "satpam_list = []\n",
        "for i in range(4):\n",
        "    name = input(f\"Masukkan nama satpam ke-{i+1}: \")\n",
        "    satpam_list.append(name)\n",
        "\n",
        "cll = CircularLinkedList()\n",
        "for name in satpam_list:\n",
        "    cll.append(name)\n",
        "\n",
        "schedule = cll.generate_schedule(14)\n",
        "for entry in schedule:\n",
        "    print(entry)\n"
      ],
      "metadata": {
        "colab": {
          "base_uri": "https://localhost:8080/"
        },
        "outputId": "18a1255f-5fb3-4932-8a9b-954f1a0eaefc",
        "id": "oY7o1mZcw99C"
      },
      "execution_count": null,
      "outputs": [
        {
          "output_type": "stream",
          "name": "stdout",
          "text": [
            "Masukkan nama satpam ke-1: Nadine Rachma Wijaya\n",
            "Masukkan nama satpam ke-2: Ahmada Nur Maulana Bafakih\n",
            "Masukkan nama satpam ke-3: Akhnaz Malik Firmansyah\n",
            "Masukkan nama satpam ke-4: Muafifi Daffa Firmansyah\n",
            "Hari 1: Nadine Rachma Wijaya\n",
            "Hari 2: Ahmada Nur Maulana Bafakih\n",
            "Hari 3: Akhnaz Malik Firmansyah\n",
            "Hari 4: Muafifi Daffa Firmansyah\n",
            "Hari 5: Nadine Rachma Wijaya\n",
            "Hari 6: Ahmada Nur Maulana Bafakih\n",
            "Hari 7: Akhnaz Malik Firmansyah\n",
            "Hari 8: Muafifi Daffa Firmansyah\n",
            "Hari 9: Nadine Rachma Wijaya\n",
            "Hari 10: Ahmada Nur Maulana Bafakih\n",
            "Hari 11: Akhnaz Malik Firmansyah\n",
            "Hari 12: Muafifi Daffa Firmansyah\n",
            "Hari 13: Nadine Rachma Wijaya\n",
            "Hari 14: Ahmada Nur Maulana Bafakih\n"
          ]
        }
      ]
    }
  ]
}