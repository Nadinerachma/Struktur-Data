{
  "nbformat": 4,
  "nbformat_minor": 0,
  "metadata": {
    "colab": {
      "provenance": [],
      "authorship_tag": "ABX9TyMBYgorLoQKXnIgI+T+ihTx",
      "include_colab_link": true
    },
    "kernelspec": {
      "name": "python3",
      "display_name": "Python 3"
    },
    "language_info": {
      "name": "python"
    }
  },
  "cells": [
    {
      "cell_type": "markdown",
      "metadata": {
        "id": "view-in-github",
        "colab_type": "text"
      },
      "source": [
        "<a href=\"https://colab.research.google.com/github/Nadinerachma/Struktur-Data/blob/main/Stack_2440506071.ipynb\" target=\"_parent\"><img src=\"https://colab.research.google.com/assets/colab-badge.svg\" alt=\"Open In Colab\"/></a>"
      ]
    },
    {
      "cell_type": "code",
      "execution_count": null,
      "metadata": {
        "id": "m3J2gxpC5IvF"
      },
      "outputs": [],
      "source": [
        "class TextEditor:\n",
        "  def __init__(self):\n",
        "    self.history = []\n",
        "\n",
        "  def write(self, text):\n",
        "    self.history.append(text)"
      ]
    },
    {
      "cell_type": "markdown",
      "source": [
        "push(x) - menambahkan elemen ke stack"
      ],
      "metadata": {
        "id": "5AyXTFyi8PWK"
      }
    },
    {
      "cell_type": "code",
      "source": [
        "class stack:\n",
        "  def __init__(self):\n",
        "    self.stack = []\n",
        "\n",
        "  def push(self, item):\n",
        "    self.stack.append(item)\n",
        "\n",
        "s = stack()\n",
        "s.push(15)\n",
        "print(s.stack)"
      ],
      "metadata": {
        "colab": {
          "base_uri": "https://localhost:8080/"
        },
        "id": "mPtjp7Wn7c96",
        "outputId": "7d1badbe-6aa8-4c80-9b0f-8ae7b4831d73"
      },
      "execution_count": null,
      "outputs": [
        {
          "output_type": "stream",
          "name": "stdout",
          "text": [
            "[15]\n"
          ]
        }
      ]
    },
    {
      "cell_type": "markdown",
      "source": [
        "pop(x) - menghapus elemen dari stack"
      ],
      "metadata": {
        "id": "kuJjyuTy8YQi"
      }
    },
    {
      "cell_type": "code",
      "source": [
        "class stack:\n",
        "  def __init__(self):\n",
        "    self.stack = []\n",
        "\n",
        "  def pop(self):\n",
        "    if len(self.stack) == 0:\n",
        "      return \"stack kosong\"\n",
        "    return self.stack.pop()\n",
        "\n",
        "s = stack()\n",
        "print(s.pop())\n",
        "print(s.stack)"
      ],
      "metadata": {
        "colab": {
          "base_uri": "https://localhost:8080/"
        },
        "id": "2dys4C4w79RE",
        "outputId": "8d9120fa-cd10-4491-8c9b-923bfcabdf2b"
      },
      "execution_count": null,
      "outputs": [
        {
          "output_type": "stream",
          "name": "stdout",
          "text": [
            "stack kosong\n",
            "[]\n"
          ]
        }
      ]
    },
    {
      "cell_type": "markdown",
      "source": [
        "peek() - melihat elemen teratas tanpa menghapusnya"
      ],
      "metadata": {
        "id": "--bgUc5I-Gwr"
      }
    },
    {
      "cell_type": "code",
      "source": [
        "class stack:\n",
        "  def __init__(self):\n",
        "    self.stack = []\n",
        "\n",
        "  def peek(self):\n",
        "    if len(self.stack) == 0:\n",
        "      return \"stack kosong\"\n",
        "\n",
        "s = stack()\n",
        "print(s.peek())\n",
        "print(s.stack)"
      ],
      "metadata": {
        "colab": {
          "base_uri": "https://localhost:8080/"
        },
        "id": "2QaVFjT79Msi",
        "outputId": "3c5ec639-33ba-4dcf-d945-a224a3fd549c"
      },
      "execution_count": null,
      "outputs": [
        {
          "output_type": "stream",
          "name": "stdout",
          "text": [
            "stack kosong\n",
            "[]\n"
          ]
        }
      ]
    },
    {
      "cell_type": "markdown",
      "source": [
        "Implementasi stack"
      ],
      "metadata": {
        "id": "JitpTlj7-0B6"
      }
    },
    {
      "cell_type": "code",
      "source": [
        "class TextEditor:\n",
        "  def __init__(self):\n",
        "    self.history = []\n",
        "\n",
        "  def write(self, text):\n",
        "    self.history.append(text)\n",
        "\n",
        "  def undo(self):\n",
        "    if self.history:\n",
        "      return f\"undo: Menghapus '(self.history.pop())'\"\n",
        "    return \"Tidak ada yang bisa di-undo\"\n",
        "\n",
        "editor = TextEditor()\n",
        "editor.write(\"Halo, ini teks pertama.\")\n",
        "editor.write(\"Ini teks kedua.\")\n",
        "editor.write(\"Ini teks ketiga.\")\n",
        "\n",
        "print(editor.undo())\n",
        "print(editor.undo())"
      ],
      "metadata": {
        "colab": {
          "base_uri": "https://localhost:8080/"
        },
        "id": "x3mj470o-tbT",
        "outputId": "24d38d82-a388-4feb-bbb2-8dc55f96b15a"
      },
      "execution_count": null,
      "outputs": [
        {
          "output_type": "stream",
          "name": "stdout",
          "text": [
            "undo: Menghapus '(self.history.pop())'\n",
            "undo: Menghapus '(self.history.pop())'\n"
          ]
        }
      ]
    },
    {
      "cell_type": "code",
      "source": [
        "class calculator:\n",
        "  def __init__(self, initial_value):\n",
        "    self.stack = [initial_value]\n",
        "    self.current_value = initial_value\n",
        "\n",
        "  def add(self, num)\n",
        "    self.stack.append(value)\n",
        "\n"
      ],
      "metadata": {
        "id": "yK3VdNEcDt8R"
      },
      "execution_count": null,
      "outputs": []
    },
    {
      "cell_type": "markdown",
      "source": [
        "Implementasi stack dengan collections.deque - navigasi history browser (push())"
      ],
      "metadata": {
        "id": "ki2nU7sgDhqh"
      }
    },
    {
      "cell_type": "code",
      "source": [
        "from collections import deque\n",
        "class BrowserHistory:\n",
        "  def __init__(self):\n",
        "    self.history = deque()\n",
        "\n",
        "  def visit(self, url):\n",
        "    self.history.append(url)\n",
        "    print(f\"Mengunjungi: (url)\")\n",
        "\n",
        "  def back(self):\n",
        "    if self.history:\n",
        "      print(f\"Kembali ke: (self.history.pop())\")\n",
        "    else:\n",
        "      print(\"Tidak ada riwayat!\")\n",
        "\n",
        "browser = BrowserHistory()\n",
        "browser.visit(\"google.com\")\n",
        "browser.visit(\"youtube.com\")\n",
        "browser.visit(\"github.com\")\n",
        "\n",
        "browser.back()\n",
        "browser.back()"
      ],
      "metadata": {
        "colab": {
          "base_uri": "https://localhost:8080/"
        },
        "id": "-H7j5gWO_vHr",
        "outputId": "42a2bd41-671b-4934-821e-4ce240aedf9b"
      },
      "execution_count": null,
      "outputs": [
        {
          "output_type": "stream",
          "name": "stdout",
          "text": [
            "Mengunjungi: (url)\n",
            "Mengunjungi: (url)\n",
            "Mengunjungi: (url)\n",
            "Kembali ke: (self.history.pop())\n",
            "Kembali ke: (self.history.pop())\n"
          ]
        }
      ]
    },
    {
      "cell_type": "markdown",
      "source": [
        "Latihan 1"
      ],
      "metadata": {
        "id": "m9lhl8tPMJ6F"
      }
    },
    {
      "cell_type": "code",
      "source": [
        "class Kalkulator:\n",
        "    def __init__(self, angka_awal):\n",
        "        self.angka = angka_awal\n",
        "        self.history = []\n",
        "\n",
        "    def operasi(self, operator, nilai):\n",
        "        self.history.append((operator, nilai))\n",
        "        if operator == \"+\":\n",
        "            self.angka += nilai\n",
        "        elif operator == \"-\":\n",
        "            self.angka -= nilai\n",
        "        elif operator == \"*\":\n",
        "            self.angka *= nilai\n",
        "        elif operator == \"/\":\n",
        "            self.angka /= nilai\n",
        "\n",
        "    def undo(self):\n",
        "        if self.history:\n",
        "            operator, nilai = self.history.pop()\n",
        "            if operator == \"+\":\n",
        "                self.angka -= nilai\n",
        "            elif operator == \"-\":\n",
        "                self.angka += nilai\n",
        "            elif operator == \"*\":\n",
        "                self.angka /= nilai\n",
        "            elif operator == \"/\":\n",
        "                self.angka *= nilai\n",
        "            print(\"Undo berhasil!\")\n",
        "        else:\n",
        "            print(\"Tidak ada operasi untuk di-undo.\")\n",
        "\n",
        "    def tampilkan(self):\n",
        "        print(f\"Hasil saat ini: {self.angka}\")\n",
        "\n",
        "calc = Kalkulator(71)\n",
        "calc.operasi(\"+\", 10)\n",
        "calc.operasi(\"-\", 5)\n",
        "calc.operasi(\"*\", 2)\n",
        "calc.tampilkan()\n",
        "calc.undo()\n",
        "calc.tampilkan()\n"
      ],
      "metadata": {
        "colab": {
          "base_uri": "https://localhost:8080/"
        },
        "id": "95h3SqT-MJDI",
        "outputId": "a51cb6b1-b26a-4b0c-e77e-19a8445e5180"
      },
      "execution_count": 6,
      "outputs": [
        {
          "output_type": "stream",
          "name": "stdout",
          "text": [
            "Hasil saat ini: 152\n",
            "Undo berhasil!\n",
            "Hasil saat ini: 76.0\n"
          ]
        }
      ]
    },
    {
      "cell_type": "markdown",
      "source": [
        "Latihan 2"
      ],
      "metadata": {
        "id": "FyIGUBH0MVVW"
      }
    },
    {
      "cell_type": "code",
      "source": [
        "class Navigasi:\n",
        "    def __init__(self, kode):\n",
        "        self.history = []\n",
        "        self.kode = kode\n",
        "\n",
        "    def kunjungi(self, fitur):\n",
        "        self.history.append(f\"{self.kode}-{fitur}\")\n",
        "        print(f\"Masuk ke {self.kode}-{fitur}\")\n",
        "\n",
        "    def back(self):\n",
        "        if self.history:\n",
        "            print(f\"Kembali dari {self.history.pop()}\")\n",
        "        else:\n",
        "            print(\"Tidak ada history lagi.\")\n",
        "\n",
        "    def tampilkan(self):\n",
        "        print(\"Riwayat:\", self.history)\n",
        "\n",
        "nav = Navigasi(\"M71\")\n",
        "nav.kunjungi(\"Home\")\n",
        "nav.kunjungi(\"Profile\")\n",
        "nav.kunjungi(\"Settings\")\n",
        "nav.tampilkan()\n",
        "nav.back()\n",
        "nav.tampilkan()\n"
      ],
      "metadata": {
        "colab": {
          "base_uri": "https://localhost:8080/"
        },
        "id": "Xdy-46pbMZRf",
        "outputId": "0f5fd48f-f5f4-4631-ff34-4b1acc68c393"
      },
      "execution_count": 7,
      "outputs": [
        {
          "output_type": "stream",
          "name": "stdout",
          "text": [
            "Masuk ke M71-Home\n",
            "Masuk ke M71-Profile\n",
            "Masuk ke M71-Settings\n",
            "Riwayat: ['M71-Home', 'M71-Profile', 'M71-Settings']\n",
            "Kembali dari M71-Settings\n",
            "Riwayat: ['M71-Home', 'M71-Profile']\n"
          ]
        }
      ]
    },
    {
      "cell_type": "markdown",
      "source": [
        "Latihan 3"
      ],
      "metadata": {
        "id": "tg0cliJNMfA4"
      }
    },
    {
      "cell_type": "code",
      "source": [
        "class EmailDraft:\n",
        "    def __init__(self, kode):\n",
        "        self.drafts = []\n",
        "        self.kode = kode\n",
        "\n",
        "    def simpan_draft(self, isi):\n",
        "        self.drafts.append(f\"{self.kode}: {isi}\")\n",
        "        print(f\"Draft disimpan: {self.kode}: {isi}\")\n",
        "\n",
        "    def lihat_draft_terakhir(self):\n",
        "        if self.drafts:\n",
        "            print(f\"Draft terakhir: {self.drafts.pop()}\")\n",
        "        else:\n",
        "            print(\"Tidak ada draft email.\")\n",
        "\n",
        "    def tampilkan(self):\n",
        "        print(\"Semua draft:\", self.drafts)\n",
        "\n",
        "email = EmailDraft(\"Na71\")\n",
        "email.simpan_draft(\"Proposal tugas akhir\")\n",
        "email.simpan_draft(\"Undangan rapat\")\n",
        "email.simpan_draft(\"Laporan progres\")\n",
        "email.tampilkan()\n",
        "email.lihat_draft_terakhir()\n",
        "email.tampilkan()\n"
      ],
      "metadata": {
        "colab": {
          "base_uri": "https://localhost:8080/"
        },
        "id": "yY6BO9f_MefW",
        "outputId": "040a01d3-483c-454f-ff60-00708ae6cb61"
      },
      "execution_count": 8,
      "outputs": [
        {
          "output_type": "stream",
          "name": "stdout",
          "text": [
            "Draft disimpan: Na71: Proposal tugas akhir\n",
            "Draft disimpan: Na71: Undangan rapat\n",
            "Draft disimpan: Na71: Laporan progres\n",
            "Semua draft: ['Na71: Proposal tugas akhir', 'Na71: Undangan rapat', 'Na71: Laporan progres']\n",
            "Draft terakhir: Na71: Laporan progres\n",
            "Semua draft: ['Na71: Proposal tugas akhir', 'Na71: Undangan rapat']\n"
          ]
        }
      ]
    },
    {
      "cell_type": "markdown",
      "source": [
        "Latihan 4"
      ],
      "metadata": {
        "id": "29Rn2GMuMksh"
      }
    },
    {
      "cell_type": "code",
      "source": [
        "class TiketBioskop:\n",
        "    def __init__(self, kode):\n",
        "        self.antrian = []\n",
        "        self.kode = kode\n",
        "\n",
        "    def beli_tiket(self, nama):\n",
        "        tiket = f\"{self.kode}-{nama}\"\n",
        "        self.antrian.append(tiket)\n",
        "        print(f\"Tiket dibeli: {tiket}\")\n",
        "\n",
        "    def proses_tiket(self):\n",
        "        if self.antrian:\n",
        "            print(f\"Tiket diproses: {self.antrian.pop()}\")\n",
        "        else:\n",
        "            print(\"Tidak ada tiket yang perlu diproses.\")\n",
        "\n",
        "    def tampilkan(self):\n",
        "        print(\"Antrean tiket:\", self.antrian)\n",
        "\n",
        "tiket = TiketBioskop(\"M71\")\n",
        "tiket.beli_tiket(\"Avengers\")\n",
        "tiket.beli_tiket(\"Batman\")\n",
        "tiket.beli_tiket(\"Spiderman\")\n",
        "tiket.tampilkan()\n",
        "tiket.proses_tiket()\n",
        "tiket.tampilkan()\n"
      ],
      "metadata": {
        "colab": {
          "base_uri": "https://localhost:8080/"
        },
        "id": "lfOyHrzTMkZw",
        "outputId": "8d7fe1ea-5eec-45d4-be93-6e7300a4e718"
      },
      "execution_count": 9,
      "outputs": [
        {
          "output_type": "stream",
          "name": "stdout",
          "text": [
            "Tiket dibeli: M71-Avengers\n",
            "Tiket dibeli: M71-Batman\n",
            "Tiket dibeli: M71-Spiderman\n",
            "Antrean tiket: ['M71-Avengers', 'M71-Batman', 'M71-Spiderman']\n",
            "Tiket diproses: M71-Spiderman\n",
            "Antrean tiket: ['M71-Avengers', 'M71-Batman']\n"
          ]
        }
      ]
    },
    {
      "cell_type": "markdown",
      "source": [
        "Tugas"
      ],
      "metadata": {
        "id": "TYhwSpdaE9pj"
      }
    },
    {
      "cell_type": "code",
      "source": [
        "MAX_BARANG = 71\n",
        "\n",
        "class Gudang:\n",
        "    def __init__(self):\n",
        "        self.tumpukan = []\n",
        "\n",
        "    def push(self, barang):\n",
        "        if len(self.tumpukan) < MAX_BARANG:\n",
        "            self.tumpukan.append(barang)\n",
        "            print(f\"Barang '{barang}' ditambahkan ke gudang.\")\n",
        "        else:\n",
        "            print(\"Gudang penuh! Tidak bisa menambahkan barang lagi.\")\n",
        "\n",
        "    def pop(self):\n",
        "        if self.tumpukan:\n",
        "            barang = self.tumpukan.pop()\n",
        "            print(f\"Barang '{barang}' diambil dari gudang.\")\n",
        "            return barang\n",
        "        else:\n",
        "            print(\"Gudang kosong, tidak ada barang yang bisa diambil.\")\n",
        "            return None\n",
        "\n",
        "    def cari_barang(self, barang):\n",
        "        if barang in self.tumpukan:\n",
        "            print(f\"Barang '{barang}' ditemukan dalam gudang.\")\n",
        "        else:\n",
        "            print(f\"Barang '{barang}' tidak ada dalam gudang.\")\n",
        "\n",
        "    def reset_gudang(self):\n",
        "        self.tumpukan.clear()\n",
        "        print(\"Gudang dikosongkan.\")\n",
        "\n",
        "    def tampilkan_tumpukan(self):\n",
        "        if self.tumpukan:\n",
        "            print(\"Barang dalam gudang saat ini:\", self.tumpukan)\n",
        "        else:\n",
        "            print(\"Gudang kosong.\")\n",
        "\n",
        "gudang = Gudang()\n",
        "\n",
        "gudang.push(\"Laptop\")\n",
        "gudang.push(\"Monitor\")\n",
        "gudang.push(\"Keyboard\")\n",
        "\n",
        "gudang.tampilkan_tumpukan()\n",
        "\n",
        "gudang.cari_barang(\"Monitor\")\n",
        "gudang.cari_barang(\"Mouse\")\n",
        "\n",
        "gudang.pop()\n",
        "gudang.tampilkan_tumpukan()\n",
        "\n",
        "gudang.reset_gudang()\n",
        "gudang.tampilkan_tumpukan()\n"
      ],
      "metadata": {
        "colab": {
          "base_uri": "https://localhost:8080/"
        },
        "id": "-JU1gBONGyns",
        "outputId": "5f91ca42-c013-4102-e1c1-7e172fd33855"
      },
      "execution_count": 5,
      "outputs": [
        {
          "output_type": "stream",
          "name": "stdout",
          "text": [
            "Barang 'Laptop' ditambahkan ke gudang.\n",
            "Barang 'Monitor' ditambahkan ke gudang.\n",
            "Barang 'Keyboard' ditambahkan ke gudang.\n",
            "Barang dalam gudang saat ini: ['Laptop', 'Monitor', 'Keyboard']\n",
            "Barang 'Monitor' ditemukan dalam gudang.\n",
            "Barang 'Mouse' tidak ada dalam gudang.\n",
            "Barang 'Keyboard' diambil dari gudang.\n",
            "Barang dalam gudang saat ini: ['Laptop', 'Monitor']\n",
            "Gudang dikosongkan.\n",
            "Gudang kosong.\n"
          ]
        }
      ]
    }
  ]
}