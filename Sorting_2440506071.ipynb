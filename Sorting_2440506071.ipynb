{
  "nbformat": 4,
  "nbformat_minor": 0,
  "metadata": {
    "colab": {
      "provenance": [],
      "authorship_tag": "ABX9TyPfYwuOfmMqayVhRSkWZmXP",
      "include_colab_link": true
    },
    "kernelspec": {
      "name": "python3",
      "display_name": "Python 3"
    },
    "language_info": {
      "name": "python"
    }
  },
  "cells": [
    {
      "cell_type": "markdown",
      "metadata": {
        "id": "view-in-github",
        "colab_type": "text"
      },
      "source": [
        "<a href=\"https://colab.research.google.com/github/Nadinerachma/Struktur-Data/blob/main/Sorting_2440506071.ipynb\" target=\"_parent\"><img src=\"https://colab.research.google.com/assets/colab-badge.svg\" alt=\"Open In Colab\"/></a>"
      ]
    },
    {
      "cell_type": "markdown",
      "source": [
        "Implementasi bubble sort"
      ],
      "metadata": {
        "id": "96sGnyGcRY9n"
      }
    },
    {
      "cell_type": "code",
      "source": [
        "def bubble_sort(arr):\n",
        "  n = len(arr)\n",
        "  for i in range(n - 1):\n",
        "    for j in range(n - i - 1):\n",
        "      if arr[j] > arr[j + 1]:\n",
        "        arr[j], arr[j + 1] = arr[j + 1], arr[j]\n",
        "  return arr\n",
        "\n",
        "data = [64, 34, 25, 12, 22, 11, 90]\n",
        "sorted_data = bubble_sort(data.copy())\n",
        "print(\"Data sebelum sorting:\", data)\n",
        "print(\"Data setelah sorting:\", sorted_data)"
      ],
      "metadata": {
        "colab": {
          "base_uri": "https://localhost:8080/"
        },
        "id": "fBXt39YHPxE_",
        "outputId": "b038867c-54a9-4934-b403-e18376034762"
      },
      "execution_count": null,
      "outputs": [
        {
          "output_type": "stream",
          "name": "stdout",
          "text": [
            "Data sebelum sorting: [64, 34, 25, 12, 22, 11, 90]\n",
            "Data setelah sorting: [11, 12, 22, 25, 34, 64, 90]\n"
          ]
        }
      ]
    },
    {
      "cell_type": "markdown",
      "source": [
        "Implementasi selection sort"
      ],
      "metadata": {
        "id": "a4QvmJUmOA6H"
      }
    },
    {
      "cell_type": "code",
      "execution_count": null,
      "metadata": {
        "id": "5I8VlUfpJ6yv"
      },
      "outputs": [],
      "source": [
        "def selection_sort(arr):\n",
        "  n = len(arr)\n",
        "  for i in range(n - 1):\n",
        "    min_index = i\n",
        "    for j in range(i + 1, n):\n",
        "      if arr[j] < arr[min_index]:\n",
        "        min_index = j\n",
        "    arr[i], arr[min_index] = arr[min_index], arr[i]\n",
        "  return arr"
      ]
    },
    {
      "cell_type": "markdown",
      "source": [
        "Implementasi insertion sort"
      ],
      "metadata": {
        "id": "6R3SN18cO7K3"
      }
    },
    {
      "cell_type": "code",
      "source": [
        "def insertion_sort(arr):\n",
        "  n = len(arr)\n",
        "  for i in range(1, n):\n",
        "    key = arr[i]\n",
        "    j = i - 1\n",
        "    while j >= 0 and key < arr[j]:\n",
        "      arr[j + 1] = arr[j]\n",
        "      j -= 1\n",
        "    arr[j + 1] = key\n",
        "  return arr\n",
        "\n",
        "data = [64, 34, 25, 12, 22, 11, 90]\n",
        "sorted_data = insertion_sort(data.copy())\n",
        "print(\"Data sebelum sorting:\", data)\n",
        "print(\"Data setelah sorting:\", sorted_data)"
      ],
      "metadata": {
        "colab": {
          "base_uri": "https://localhost:8080/"
        },
        "id": "5JQaJ7PLN-Dw",
        "outputId": "6a4cee4f-138f-466f-a78a-5e8a96f43ef0"
      },
      "execution_count": null,
      "outputs": [
        {
          "output_type": "stream",
          "name": "stdout",
          "text": [
            "Data sebelum sorting: [64, 34, 25, 12, 22, 11, 90]\n",
            "Data setelah sorting: [11, 12, 22, 25, 34, 64, 90]\n"
          ]
        }
      ]
    },
    {
      "cell_type": "markdown",
      "source": [
        "Implementasi merge sort"
      ],
      "metadata": {
        "id": "0wqcX1kVRd3m"
      }
    },
    {
      "cell_type": "code",
      "source": [
        "def merge_sort(arr):\n",
        "  if len(arr) > 1:\n",
        "    mid = len(arr) // 2\n",
        "    left_half = arr[:mid]\n",
        "    right_half = arr[mid:]\n",
        "\n",
        "    merge_sort(left_half)\n",
        "    merge_sort(right_half)\n",
        "\n",
        "    i = j = k = 0\n",
        "\n",
        "    while i < len(left_half) and j < len(right_half):\n",
        "      if left_half[i] < right_half[j]:\n",
        "        arr[k] = left_half[i]\n",
        "        i += 1\n",
        "      else:\n",
        "        arr[k] = right_half[j]\n",
        "        j += 1\n",
        "      k += 1\n",
        "\n",
        "    while i < len(left_half):\n",
        "      arr[k] = left_half[i]\n",
        "      i += 1\n",
        "      k += 1\n",
        "\n",
        "    while j < len(right_half):\n",
        "      arr[k] = right_half[j]\n",
        "      j += 1\n",
        "      k += 1\n",
        "\n",
        "  return arr\n",
        "\n",
        "data = [64, 34, 25, 12, 22, 11, 90]\n",
        "sorted_data = merge_sort(data.copy())\n",
        "print(\"Data sebelum sorting:\", data)\n",
        "print(\"Data setelah sorting:\", sorted_data)"
      ],
      "metadata": {
        "colab": {
          "base_uri": "https://localhost:8080/"
        },
        "id": "s_wJ9pZbOu1B",
        "outputId": "a51dbb2a-b3be-42b3-866d-80cc635b7c73"
      },
      "execution_count": null,
      "outputs": [
        {
          "output_type": "stream",
          "name": "stdout",
          "text": [
            "Data sebelum sorting: [64, 34, 25, 12, 22, 11, 90]\n",
            "Data setelah sorting: [11, 12, 22, 25, 34, 64, 90]\n"
          ]
        }
      ]
    },
    {
      "cell_type": "code",
      "source": [
        "def quick_sort(arr):\n",
        "  if len(arr) <= 1:\n",
        "    return arr\n",
        "\n",
        "  pivot = arr[len(arr) // 2]\n",
        "  left = [x for x in arr if x < pivot]\n",
        "  middle = [x for x in arr if x == pivot]\n",
        "  right = [x for x in arr if x > pivot]\n",
        "\n",
        "  return quick_sort(left) + middle + quick_sort(right)\n",
        "\n",
        "data = [64, 25, 12, 22, 11]\n",
        "sorted_data = quick_sort(data.copy())\n",
        "print(\"Data sebelum sorting:\", data)\n",
        "print(\"Data setelah sorting:\", sorted_data)"
      ],
      "metadata": {
        "colab": {
          "base_uri": "https://localhost:8080/"
        },
        "id": "nrc4hURTPrnw",
        "outputId": "e99fc9b2-872b-439f-e4b7-bc87d2505f54"
      },
      "execution_count": null,
      "outputs": [
        {
          "output_type": "stream",
          "name": "stdout",
          "text": [
            "Data sebelum sorting: [64, 25, 12, 22, 11]\n",
            "Data setelah sorting: [11, 12, 22, 25, 64]\n"
          ]
        }
      ]
    },
    {
      "cell_type": "markdown",
      "source": [
        "Tugas"
      ],
      "metadata": {
        "id": "pc1iOsb7SS9o"
      }
    },
    {
      "cell_type": "code",
      "source": [
        "def quick_sort(arr):\n",
        "    if len(arr) <= 1:\n",
        "        return arr\n",
        "    pivot = arr[len(arr) // 2]\n",
        "    left = [x for x in arr if x > pivot]\n",
        "    middle = [x for x in arr if x == pivot]\n",
        "    right = [x for x in arr if x < pivot]\n",
        "    return quick_sort(left) + middle + quick_sort(right)\n",
        "\n",
        "film_rating = [8.5, 7.2, 9.1, 6.8, 9.5, 8.0, 7.9]\n",
        "sorted_rating = quick_sort(film_rating)\n",
        "\n",
        "print(\"Daftar Film berdasarkan Rating (Tertinggi ke Terendah):\")\n",
        "print(sorted_rating)\n"
      ],
      "metadata": {
        "colab": {
          "base_uri": "https://localhost:8080/"
        },
        "id": "LU1TX7NDSBNo",
        "outputId": "70525737-5161-46ec-b067-9e6cd0e03abb"
      },
      "execution_count": 1,
      "outputs": [
        {
          "output_type": "stream",
          "name": "stdout",
          "text": [
            "Daftar Film berdasarkan Rating (Tertinggi ke Terendah):\n",
            "[9.5, 9.1, 8.5, 8.0, 7.9, 7.2, 6.8]\n"
          ]
        }
      ]
    },
    {
      "cell_type": "code",
      "source": [
        "def merge_sort(arr):\n",
        "    if len(arr) <= 1:\n",
        "        return arr\n",
        "\n",
        "    mid = len(arr) // 2\n",
        "    left_half = merge_sort(arr[:mid])\n",
        "    right_half = merge_sort(arr[mid:])\n",
        "\n",
        "    return merge(left_half, right_half)\n",
        "\n",
        "def merge(left, right):\n",
        "    sorted_list = []\n",
        "    i = j = 0\n",
        "\n",
        "    while i < len(left) and j < len(right):\n",
        "        if left[i] > right[j]:\n",
        "            sorted_list.append(left[i])\n",
        "            i += 1\n",
        "        else:\n",
        "            sorted_list.append(right[j])\n",
        "            j += 1\n",
        "\n",
        "    sorted_list.extend(left[i:])\n",
        "    sorted_list.extend(right[j:])\n",
        "\n",
        "    return sorted_list\n",
        "\n",
        "film_rating = [8.5, 7.2, 9.1, 6.8, 9.5, 8.0, 7.9]\n",
        "sorted_rating = merge_sort(film_rating)\n",
        "\n",
        "print(\"Daftar Film berdasarkan Rating (Tertinggi ke Terendah):\")\n",
        "print(sorted_rating)\n"
      ],
      "metadata": {
        "id": "wApDBcwwXDwe",
        "colab": {
          "base_uri": "https://localhost:8080/"
        },
        "outputId": "b1b31d5f-461b-4368-e399-86be092c82e6"
      },
      "execution_count": 2,
      "outputs": [
        {
          "output_type": "stream",
          "name": "stdout",
          "text": [
            "Daftar Film berdasarkan Rating (Tertinggi ke Terendah):\n",
            "[9.5, 9.1, 8.5, 8.0, 7.9, 7.2, 6.8]\n"
          ]
        }
      ]
    },
    {
      "cell_type": "code",
      "source": [
        "def insertion_sort(arr):\n",
        "    for i in range(1, len(arr)):\n",
        "        key = arr[i]\n",
        "        j = i - 1\n",
        "        while j >= 0 and arr[j] < key:\n",
        "            arr[j + 1] = arr[j]\n",
        "            j -= 1\n",
        "        arr[j + 1] = key\n",
        "    return arr\n",
        "\n",
        "film_rating = [8.5, 7.2, 9.1, 6.8, 9.5, 8.0, 7.9]\n",
        "sorted_rating = insertion_sort(film_rating)\n",
        "\n",
        "print(\"Daftar Film berdasarkan Rating (Tertinggi ke Terendah):\")\n",
        "print(sorted_rating)\n"
      ],
      "metadata": {
        "colab": {
          "base_uri": "https://localhost:8080/"
        },
        "id": "cYIGjOCyDX_1",
        "outputId": "97d18cf5-3e7d-40fa-fc1e-0050ce833b0f"
      },
      "execution_count": 3,
      "outputs": [
        {
          "output_type": "stream",
          "name": "stdout",
          "text": [
            "Daftar Film berdasarkan Rating (Tertinggi ke Terendah):\n",
            "[9.5, 9.1, 8.5, 8.0, 7.9, 7.2, 6.8]\n"
          ]
        }
      ]
    }
  ]
}