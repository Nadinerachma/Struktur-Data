{
  "nbformat": 4,
  "nbformat_minor": 0,
  "metadata": {
    "colab": {
      "provenance": [],
      "authorship_tag": "ABX9TyMlDYW4qDUelobhQlVKRD2v",
      "include_colab_link": true
    },
    "kernelspec": {
      "name": "python3",
      "display_name": "Python 3"
    },
    "language_info": {
      "name": "python"
    }
  },
  "cells": [
    {
      "cell_type": "markdown",
      "metadata": {
        "id": "view-in-github",
        "colab_type": "text"
      },
      "source": [
        "<a href=\"https://colab.research.google.com/github/Nadinerachma/Struktur-Data/blob/main/Queue_2440506071.ipynb\" target=\"_parent\"><img src=\"https://colab.research.google.com/assets/colab-badge.svg\" alt=\"Open In Colab\"/></a>"
      ]
    },
    {
      "cell_type": "markdown",
      "source": [
        "Implementasi Queue dengan list\n",
        "\n",
        "\n"
      ],
      "metadata": {
        "id": "XAJsGQ01FEKd"
      }
    },
    {
      "cell_type": "code",
      "source": [
        "class QueueList:\n",
        "  def __init__(self):\n",
        "    self.queue = []\n",
        "\n",
        "  def enqueue (self, item):\n",
        "    self.queue.append(item)\n",
        "\n",
        "  def dequeue (self):\n",
        "    if not self.is_empty():\n",
        "        return self.queue.pop (0)\n",
        "    return None\n",
        "\n",
        "  def front (self):\n",
        "    return self.queue[0] if not self.is_empty() else None\n",
        "\n",
        "  def rear (self):\n",
        "    return self.queue [-1] if not self.is_empty() else None\n",
        "\n",
        "  def is_empty(self):\n",
        "    return len (self.queue)\n",
        "\n",
        "  def size (self):\n",
        "    return len (self.queue)\n",
        "\n",
        "queue = QueueList()\n",
        "queue.enqueue(10)\n",
        "queue.enqueue(20)\n",
        "queue.enqueue(30)\n",
        "print(\"Queue setelah enqueue:\", queue.queue)\n",
        "print(\"Dequeued element:\", queue.dequeue())\n",
        "print(\"Front element:\", queue.front ())\n",
        "print(\"Rear element: \", queue. rear ())\n",
        "print(\"Queue size:\", queue.size())\n",
        "\n"
      ],
      "metadata": {
        "colab": {
          "base_uri": "https://localhost:8080/"
        },
        "id": "PAQIHQMkMSlX",
        "outputId": "36cf1f82-23c5-437e-ff26-9a5427e0463d"
      },
      "execution_count": null,
      "outputs": [
        {
          "output_type": "stream",
          "name": "stdout",
          "text": [
            "Queue setelah enqueue: [10, 20, 30]\n",
            "Dequeued element: None\n",
            "Front element: None\n",
            "Rear element:  None\n",
            "Queue size: 3\n"
          ]
        }
      ]
    },
    {
      "cell_type": "markdown",
      "source": [
        "Implementasi Queue dengan collections.deque"
      ],
      "metadata": {
        "id": "wXIfTi4iOHYW"
      }
    },
    {
      "cell_type": "code",
      "source": [
        "from collections import deque\n",
        "\n",
        "class QueueDeque:\n",
        "  def __init__(self):\n",
        "    self.queue = deque()\n",
        "\n",
        "  def enqueue(self, item):\n",
        "    self.queue.append(item)\n",
        "\n",
        "  def dequeue(self):\n",
        "    return self.queue.popleft() if not self.is_empty() else None\n",
        "\n",
        "  def front(self):\n",
        "    return self.queue[0] if not self.is_empty() else None\n",
        "\n",
        "  def rear(self):\n",
        "    return len(self.queue) == 0\n",
        "\n",
        "  def size(self):\n",
        "    return len(self.queue)\n",
        "\n",
        "queue = QueueList()\n",
        "queue.enqueue(10)\n",
        "queue.enqueue(20)\n",
        "queue.enqueue(30)\n",
        "print(\"Queue setelah enqueue:\", queue.queue)\n",
        "print(\"Dequeued element:\", queue.dequeue())\n",
        "print(\"Front element:\", queue.front ())\n",
        "print(\"Rear element: \", queue. rear ())\n",
        "print(\"Queue size:\", queue.size())\n"
      ],
      "metadata": {
        "colab": {
          "base_uri": "https://localhost:8080/"
        },
        "id": "OFpauiWxNwK2",
        "outputId": "0b171b11-f898-4222-85d1-c6f72de8693f"
      },
      "execution_count": null,
      "outputs": [
        {
          "output_type": "stream",
          "name": "stdout",
          "text": [
            "Queue setelah enqueue: [10, 20, 30]\n",
            "Dequeued element: None\n",
            "Front element: None\n",
            "Rear element:  None\n",
            "Queue size: 3\n"
          ]
        }
      ]
    },
    {
      "cell_type": "markdown",
      "source": [
        "Implementasi Queue dengan queue.Queue"
      ],
      "metadata": {
        "id": "WRCwQhJ2Pkm1"
      }
    },
    {
      "cell_type": "code",
      "source": [
        "from queue import Queue\n",
        "\n",
        "queue = Queue()\n",
        "queue.put(10)\n",
        "queue.put(20)\n",
        "queue.put(30)\n",
        "\n",
        "print(\"Queue size:\", queue.qsize())\n",
        "print(\"Dequeued elemen:\", queue.get())\n",
        "print(\"Queue size setelah dequeue:\", queue.qsize())"
      ],
      "metadata": {
        "colab": {
          "base_uri": "https://localhost:8080/"
        },
        "id": "BuUZNWXaPfxm",
        "outputId": "2b689841-d878-4852-a25d-8a570804685c"
      },
      "execution_count": null,
      "outputs": [
        {
          "output_type": "stream",
          "name": "stdout",
          "text": [
            "Queue size: 3\n",
            "Dequeued elemen: 10\n",
            "Queue size setelah dequeue: 2\n"
          ]
        }
      ]
    },
    {
      "cell_type": "code",
      "source": [
        "class QueueList:\n",
        "  def __init__(self):\n",
        "    self.queue = []\n",
        "\n",
        "  def enqueue (self, item):\n",
        "    self.queue.append(item)\n",
        "\n",
        "  def dequeue (self):\n",
        "    if not self.is_empty():\n",
        "        return self.queue.pop (71)\n",
        "    return None\n",
        "\n",
        "  def front (self):\n",
        "    return self.queue[71] if not self.is_empty() else None\n",
        "\n",
        "  def rear (self):\n",
        "    return self.queue [-1] if not self.is_empty() else None\n",
        "\n",
        "  def is_empty(self):\n",
        "    return len (self.queue)\n",
        "\n",
        "  def size (self):\n",
        "    return len (self.queue)\n",
        "\n",
        "queue = QueueList()\n",
        "queue.enqueue(10)\n",
        "queue.enqueue(20)\n",
        "queue.enqueue(30)\n",
        "print(\"Queue setelah enqueue:\", queue.queue)\n",
        "print(\"Dequeued element:\", queue.dequeue())\n",
        "print(\"Front element:\", queue.front ())\n",
        "print(\"Rear element: \", queue. rear ())\n",
        "print(\"Queue size:\", queue.size())\n",
        "\n"
      ],
      "metadata": {
        "colab": {
          "base_uri": "https://localhost:8080/"
        },
        "outputId": "36cf1f82-23c5-437e-ff26-9a5427e0463d",
        "id": "rUlI4wMuTilY"
      },
      "execution_count": null,
      "outputs": [
        {
          "output_type": "stream",
          "name": "stdout",
          "text": [
            "Queue setelah enqueue: [10, 20, 30]\n",
            "Dequeued element: None\n",
            "Front element: None\n",
            "Rear element:  None\n",
            "Queue size: 3\n"
          ]
        }
      ]
    },
    {
      "cell_type": "markdown",
      "source": [
        "Tugas 1"
      ],
      "metadata": {
        "id": "gMq0_hZsXfpJ"
      }
    },
    {
      "cell_type": "code",
      "source": [
        "class Queue:\n",
        "    def __init__(self, max_size=10):\n",
        "        self.queue = []\n",
        "        self.max_size = max_size\n",
        "\n",
        "    def enqueue(self, ticket_id):\n",
        "        if len(self.queue) < self.max_size:\n",
        "            self.queue.append(ticket_id)\n",
        "        else:\n",
        "            print(\"Antrian penuh, tunggu hingga ada slot kosong.\")\n",
        "\n",
        "    def dequeue(self):\n",
        "        if not self.is_empty():\n",
        "            return self.queue.pop(0)\n",
        "        else:\n",
        "            return \"Antrian kosong\"\n",
        "\n",
        "    def front(self):\n",
        "        return self.queue[0] if not self.is_empty() else \"Antrian kosong\"\n",
        "\n",
        "    def rear(self):\n",
        "        return self.queue[-1] if not self.is_empty() else \"Antrian kosong\"\n",
        "\n",
        "    def is_empty(self):\n",
        "        return len(self.queue) == 0\n",
        "\n",
        "    def size(self):\n",
        "        return len(self.queue)\n",
        "\n",
        "    def vip_customer(self, ticket_id):\n",
        "        if \"7\" in ticket_id:\n",
        "            print(f\"Pelanggan {ticket_id} mendapatkan kursi tanpa antri.\")\n",
        "        else:\n",
        "            self.enqueue(ticket_id)\n",
        "\n",
        "antrian = Queue()\n",
        "antrian.vip_customer(\"NA71\")\n",
        "antrian.enqueue(\"NA78\")\n",
        "antrian.enqueue(\"NA73\")\n",
        "print(antrian.queue)"
      ],
      "metadata": {
        "colab": {
          "base_uri": "https://localhost:8080/"
        },
        "id": "Zbn_yGzZX35M",
        "outputId": "3d1396f6-0b21-4755-de23-1e417615d973"
      },
      "execution_count": 4,
      "outputs": [
        {
          "output_type": "stream",
          "name": "stdout",
          "text": [
            "Pelanggan NA71 mendapatkan kursi tanpa antri.\n",
            "['NA78', 'NA73']\n"
          ]
        }
      ]
    },
    {
      "cell_type": "markdown",
      "source": [
        "Tugas 2"
      ],
      "metadata": {
        "id": "D6-PaWcLZW2M"
      }
    },
    {
      "cell_type": "code",
      "source": [
        "class FotokopiQueue:\n",
        "    def __init__(self):\n",
        "        self.queue = []\n",
        "\n",
        "    def enqueue(self, order_id, num_pages):\n",
        "        if num_pages < 10:\n",
        "            print(f\"Pesanan {order_id} langsung diproses tanpa antri.\")\n",
        "        else:\n",
        "            self.queue.append((order_id, num_pages))\n",
        "\n",
        "    def dequeue(self):\n",
        "        if not self.is_empty():\n",
        "            return self.queue.pop(0)\n",
        "        else:\n",
        "            return \"Antrian kosong\"\n",
        "\n",
        "    def front(self):\n",
        "        return self.queue[0] if not self.is_empty() else \"Antrian kosong\"\n",
        "\n",
        "    def rear(self):\n",
        "        return self.queue[-1] if not self.is_empty() else \"Antrian kosong\"\n",
        "\n",
        "    def is_empty(self):\n",
        "        return len(self.queue) == 0\n",
        "\n",
        "    def size(self):\n",
        "        return len(self.queue)\n",
        "\n",
        "antrian_fotokopi = FotokopiQueue()\n",
        "antrian_fotokopi.enqueue(\"NAD71\", 5)\n",
        "antrian_fotokopi.enqueue(\"NAD72\", 120)\n",
        "print(antrian_fotokopi.queue)"
      ],
      "metadata": {
        "colab": {
          "base_uri": "https://localhost:8080/"
        },
        "id": "SklQYJlPZsjH",
        "outputId": "da93e63e-fe14-4329-ba08-226b6a520f18"
      },
      "execution_count": 6,
      "outputs": [
        {
          "output_type": "stream",
          "name": "stdout",
          "text": [
            "Pesanan NAD71 langsung diproses tanpa antri.\n",
            "[('NAD72', 120)]\n"
          ]
        }
      ]
    },
    {
      "cell_type": "markdown",
      "source": [
        "Tugas 3"
      ],
      "metadata": {
        "id": "nhLS8FscaQRo"
      }
    },
    {
      "cell_type": "code",
      "source": [
        "class ParkirQueue:\n",
        "    def __init__(self, max_size=15):\n",
        "        self.queue = []\n",
        "        self.max_size = max_size\n",
        "\n",
        "    def enqueue(self, vehicle_number, is_green=False):\n",
        "        if is_green:\n",
        "            print(f\"Kendaraan {vehicle_number} mendapat prioritas masuk parkir.\")\n",
        "        elif len(self.queue) < self.max_size:\n",
        "            self.queue.append(vehicle_number)\n",
        "        else:\n",
        "            print(\"Parkiran penuh, tunggu hingga ada kendaraan keluar.\")\n",
        "\n",
        "    def dequeue(self):\n",
        "        if not self.is_empty():\n",
        "            return self.queue.pop(0)\n",
        "        else:\n",
        "            return \"Parkiran kosong\"\n",
        "\n",
        "    def front(self):\n",
        "        return self.queue[0] if not self.is_empty() else \"Parkiran kosong\"\n",
        "\n",
        "    def rear(self):\n",
        "        return self.queue[-1] if not self.is_empty() else \"Parkiran kosong\"\n",
        "\n",
        "    def is_empty(self):\n",
        "        return len(self.queue) == 0\n",
        "\n",
        "    def size(self):\n",
        "        return len(self.queue)\n",
        "\n",
        "parkiran = ParkirQueue()\n",
        "parkiran.enqueue(\"JA71\", is_green=True)\n",
        "parkiran.enqueue(\"BA08\")\n",
        "print(parkiran.queue)"
      ],
      "metadata": {
        "colab": {
          "base_uri": "https://localhost:8080/"
        },
        "id": "ilzD4JV6alvY",
        "outputId": "c9bc40b3-79d4-411c-bd4a-dc6314339336"
      },
      "execution_count": 9,
      "outputs": [
        {
          "output_type": "stream",
          "name": "stdout",
          "text": [
            "Kendaraan JA71 mendapat prioritas masuk parkir.\n",
            "['BA08']\n"
          ]
        }
      ]
    },
    {
      "cell_type": "markdown",
      "source": [
        "Tugas 4"
      ],
      "metadata": {
        "id": "LraRHAeAbItS"
      }
    },
    {
      "cell_type": "code",
      "source": [
        "class SertifikatQueue:\n",
        "    def __init__(self):\n",
        "        self.queue_reguler = []\n",
        "        self.queue_prestasi = []\n",
        "\n",
        "    def enqueue(self, student_id, is_prestasi=False):\n",
        "        if is_prestasi:\n",
        "            print(f\"Mahasiswa {student_id} langsung mengambil sertifikat tanpa antri.\")\n",
        "        elif len(self.queue_reguler) >= 20:\n",
        "            self.queue_prestasi.append(student_id)\n",
        "        else:\n",
        "            self.queue_reguler.append(student_id)\n",
        "\n",
        "    def dequeue(self):\n",
        "        if self.queue_prestasi:\n",
        "            return self.queue_prestasi.pop(0)\n",
        "        elif self.queue_reguler:\n",
        "            return self.queue_reguler.pop(0)\n",
        "        else:\n",
        "            return \"Antrian kosong\"\n",
        "\n",
        "    def front(self):\n",
        "        if self.queue_prestasi:\n",
        "            return self.queue_prestasi[0]\n",
        "        elif self.queue_reguler:\n",
        "            return self.queue_reguler[0]\n",
        "        return \"Antrian kosong\"\n",
        "\n",
        "    def rear(self):\n",
        "        if self.queue_prestasi:\n",
        "            return self.queue_prestasi[-1]\n",
        "        elif self.queue_reguler:\n",
        "            return self.queue_reguler[-1]\n",
        "        return \"Antrian kosong\"\n",
        "\n",
        "    def is_empty(self):\n",
        "        return len(self.queue_reguler) == 0 and len(self.queue_prestasi) == 0\n",
        "\n",
        "    def size(self):\n",
        "        return len(self.queue_reguler) + len(self.queue_prestasi)\n",
        "\n",
        "antrian_sertifikat = SertifikatQueue()\n",
        "antrian_sertifikat.enqueue(\"TI71\")\n",
        "antrian_sertifikat.enqueue(\"SI07\", is_prestasi=True)\n",
        "print(antrian_sertifikat.queue_reguler, antrian_sertifikat.queue_prestasi)"
      ],
      "metadata": {
        "colab": {
          "base_uri": "https://localhost:8080/"
        },
        "id": "qRBxWL0kbcVC",
        "outputId": "149dfc49-e1ae-422c-9362-80eecbbc4f6f"
      },
      "execution_count": 11,
      "outputs": [
        {
          "output_type": "stream",
          "name": "stdout",
          "text": [
            "Mahasiswa SI07 langsung mengambil sertifikat tanpa antri.\n",
            "['TI71'] []\n"
          ]
        }
      ]
    },
    {
      "cell_type": "code",
      "source": [],
      "metadata": {
        "id": "9E9dGpBybSR-"
      },
      "execution_count": null,
      "outputs": []
    }
  ]
}